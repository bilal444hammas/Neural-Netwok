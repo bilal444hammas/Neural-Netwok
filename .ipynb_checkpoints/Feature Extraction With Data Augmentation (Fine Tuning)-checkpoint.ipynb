{
 "cells": [
  {
   "cell_type": "code",
   "execution_count": 1,
   "metadata": {},
   "outputs": [
    {
     "name": "stderr",
     "output_type": "stream",
     "text": [
      "Using TensorFlow backend.\n",
      "C:\\Users\\usaid\\anaconda3\\lib\\site-packages\\tensorflow\\python\\framework\\dtypes.py:516: FutureWarning: Passing (type, 1) or '1type' as a synonym of type is deprecated; in a future version of numpy, it will be understood as (type, (1,)) / '(1,)type'.\n",
      "  _np_qint8 = np.dtype([(\"qint8\", np.int8, 1)])\n",
      "C:\\Users\\usaid\\anaconda3\\lib\\site-packages\\tensorflow\\python\\framework\\dtypes.py:517: FutureWarning: Passing (type, 1) or '1type' as a synonym of type is deprecated; in a future version of numpy, it will be understood as (type, (1,)) / '(1,)type'.\n",
      "  _np_quint8 = np.dtype([(\"quint8\", np.uint8, 1)])\n",
      "C:\\Users\\usaid\\anaconda3\\lib\\site-packages\\tensorflow\\python\\framework\\dtypes.py:518: FutureWarning: Passing (type, 1) or '1type' as a synonym of type is deprecated; in a future version of numpy, it will be understood as (type, (1,)) / '(1,)type'.\n",
      "  _np_qint16 = np.dtype([(\"qint16\", np.int16, 1)])\n",
      "C:\\Users\\usaid\\anaconda3\\lib\\site-packages\\tensorflow\\python\\framework\\dtypes.py:519: FutureWarning: Passing (type, 1) or '1type' as a synonym of type is deprecated; in a future version of numpy, it will be understood as (type, (1,)) / '(1,)type'.\n",
      "  _np_quint16 = np.dtype([(\"quint16\", np.uint16, 1)])\n",
      "C:\\Users\\usaid\\anaconda3\\lib\\site-packages\\tensorflow\\python\\framework\\dtypes.py:520: FutureWarning: Passing (type, 1) or '1type' as a synonym of type is deprecated; in a future version of numpy, it will be understood as (type, (1,)) / '(1,)type'.\n",
      "  _np_qint32 = np.dtype([(\"qint32\", np.int32, 1)])\n",
      "C:\\Users\\usaid\\anaconda3\\lib\\site-packages\\tensorflow\\python\\framework\\dtypes.py:525: FutureWarning: Passing (type, 1) or '1type' as a synonym of type is deprecated; in a future version of numpy, it will be understood as (type, (1,)) / '(1,)type'.\n",
      "  np_resource = np.dtype([(\"resource\", np.ubyte, 1)])\n"
     ]
    },
    {
     "name": "stdout",
     "output_type": "stream",
     "text": [
      "WARNING:tensorflow:From C:\\Users\\usaid\\anaconda3\\lib\\site-packages\\keras\\backend\\tensorflow_backend.py:4070: The name tf.nn.max_pool is deprecated. Please use tf.nn.max_pool2d instead.\n",
      "\n"
     ]
    },
    {
     "name": "stderr",
     "output_type": "stream",
     "text": [
      "C:\\Users\\usaid\\anaconda3\\lib\\site-packages\\tensorboard\\compat\\tensorflow_stub\\dtypes.py:541: FutureWarning: Passing (type, 1) or '1type' as a synonym of type is deprecated; in a future version of numpy, it will be understood as (type, (1,)) / '(1,)type'.\n",
      "  _np_qint8 = np.dtype([(\"qint8\", np.int8, 1)])\n",
      "C:\\Users\\usaid\\anaconda3\\lib\\site-packages\\tensorboard\\compat\\tensorflow_stub\\dtypes.py:542: FutureWarning: Passing (type, 1) or '1type' as a synonym of type is deprecated; in a future version of numpy, it will be understood as (type, (1,)) / '(1,)type'.\n",
      "  _np_quint8 = np.dtype([(\"quint8\", np.uint8, 1)])\n",
      "C:\\Users\\usaid\\anaconda3\\lib\\site-packages\\tensorboard\\compat\\tensorflow_stub\\dtypes.py:543: FutureWarning: Passing (type, 1) or '1type' as a synonym of type is deprecated; in a future version of numpy, it will be understood as (type, (1,)) / '(1,)type'.\n",
      "  _np_qint16 = np.dtype([(\"qint16\", np.int16, 1)])\n",
      "C:\\Users\\usaid\\anaconda3\\lib\\site-packages\\tensorboard\\compat\\tensorflow_stub\\dtypes.py:544: FutureWarning: Passing (type, 1) or '1type' as a synonym of type is deprecated; in a future version of numpy, it will be understood as (type, (1,)) / '(1,)type'.\n",
      "  _np_quint16 = np.dtype([(\"quint16\", np.uint16, 1)])\n",
      "C:\\Users\\usaid\\anaconda3\\lib\\site-packages\\tensorboard\\compat\\tensorflow_stub\\dtypes.py:545: FutureWarning: Passing (type, 1) or '1type' as a synonym of type is deprecated; in a future version of numpy, it will be understood as (type, (1,)) / '(1,)type'.\n",
      "  _np_qint32 = np.dtype([(\"qint32\", np.int32, 1)])\n",
      "C:\\Users\\usaid\\anaconda3\\lib\\site-packages\\tensorboard\\compat\\tensorflow_stub\\dtypes.py:550: FutureWarning: Passing (type, 1) or '1type' as a synonym of type is deprecated; in a future version of numpy, it will be understood as (type, (1,)) / '(1,)type'.\n",
      "  np_resource = np.dtype([(\"resource\", np.ubyte, 1)])\n"
     ]
    }
   ],
   "source": [
    "from keras.applications import VGG16\n",
    "\n",
    "conv_base = VGG16(weights = \"imagenet\",\n",
    "                 include_top = False,\n",
    "                 input_shape=(150, 150, 3))"
   ]
  },
  {
   "cell_type": "code",
   "execution_count": 2,
   "metadata": {},
   "outputs": [],
   "source": [
    "from keras import models\n",
    "from keras import layers\n",
    "\n",
    "model = models.Sequential()\n",
    "model.add(conv_base)\n",
    "model.add(layers.Flatten())\n",
    "model.add(layers.Dense(256, activation = \"relu\"))\n",
    "model.add(layers.Dense(1, activation = \"sigmoid\"))"
   ]
  },
  {
   "cell_type": "code",
   "execution_count": 3,
   "metadata": {},
   "outputs": [
    {
     "name": "stdout",
     "output_type": "stream",
     "text": [
      "Model: \"sequential_1\"\n",
      "_________________________________________________________________\n",
      "Layer (type)                 Output Shape              Param #   \n",
      "=================================================================\n",
      "vgg16 (Model)                (None, 4, 4, 512)         14714688  \n",
      "_________________________________________________________________\n",
      "flatten_1 (Flatten)          (None, 8192)              0         \n",
      "_________________________________________________________________\n",
      "dense_1 (Dense)              (None, 256)               2097408   \n",
      "_________________________________________________________________\n",
      "dense_2 (Dense)              (None, 1)                 257       \n",
      "=================================================================\n",
      "Total params: 16,812,353\n",
      "Trainable params: 16,812,353\n",
      "Non-trainable params: 0\n",
      "_________________________________________________________________\n"
     ]
    }
   ],
   "source": [
    "model.summary()"
   ]
  },
  {
   "cell_type": "code",
   "execution_count": 4,
   "metadata": {},
   "outputs": [],
   "source": [
    "from keras.preprocessing.image import ImageDataGenerator\n",
    "from keras import optimizers\n",
    "import os\n",
    "\n",
    "train_datagen = ImageDataGenerator(\n",
    "    rescale = 1./255,\n",
    "    rotation_range = 40,\n",
    "    width_shift_range = 0.2,\n",
    "    height_shift_range = 0.2,\n",
    "    shear_range = 0.2,\n",
    "    zoom_range = 0.2,horizontal_flip = True,\n",
    "    fill_mode = \"nearest\")\n",
    "\n",
    "base_dir = \"C:/Users/usaid/Downloads/dogs-vs-cats-small\"\n",
    "train_dir = os.path.join(base_dir, 'train')\n",
    "validation_dir = os.path.join(base_dir, 'validation')\n",
    "test_dir = os.path.join(base_dir, 'test')"
   ]
  },
  {
   "cell_type": "code",
   "execution_count": 5,
   "metadata": {},
   "outputs": [],
   "source": [
    "test_datagen = ImageDataGenerator(rescale = 1./255)"
   ]
  },
  {
   "cell_type": "code",
   "execution_count": 6,
   "metadata": {},
   "outputs": [
    {
     "name": "stdout",
     "output_type": "stream",
     "text": [
      "Found 2000 images belonging to 2 classes.\n"
     ]
    }
   ],
   "source": [
    "train_generator = train_datagen.flow_from_directory(\n",
    "    train_dir,\n",
    "    target_size = (150, 150),\n",
    "    batch_size = 20,\n",
    "    class_mode = \"binary\")"
   ]
  },
  {
   "cell_type": "code",
   "execution_count": 7,
   "metadata": {},
   "outputs": [
    {
     "name": "stdout",
     "output_type": "stream",
     "text": [
      "Found 1000 images belonging to 2 classes.\n",
      "WARNING:tensorflow:From C:\\Users\\usaid\\anaconda3\\lib\\site-packages\\tensorflow\\python\\ops\\nn_impl.py:180: add_dispatch_support.<locals>.wrapper (from tensorflow.python.ops.array_ops) is deprecated and will be removed in a future version.\n",
      "Instructions for updating:\n",
      "Use tf.where in 2.0, which has the same broadcast rule as np.where\n"
     ]
    }
   ],
   "source": [
    "validation_generator = test_datagen.flow_from_directory(\n",
    "    validation_dir,\n",
    "    target_size = (150, 150),\n",
    "    batch_size = 20,\n",
    "    class_mode = \"binary\")\n",
    "\n",
    "model.compile(loss = \"binary_crossentropy\",\n",
    "             optimizer = optimizers.RMSprop(lr = 2e-5),\n",
    "              metrics = [\"acc\"])"
   ]
  },
  {
   "cell_type": "code",
   "execution_count": 8,
   "metadata": {},
   "outputs": [
    {
     "name": "stdout",
     "output_type": "stream",
     "text": [
      "WARNING:tensorflow:From C:\\Users\\usaid\\anaconda3\\lib\\site-packages\\keras\\backend\\tensorflow_backend.py:422: The name tf.global_variables is deprecated. Please use tf.compat.v1.global_variables instead.\n",
      "\n",
      "Epoch 1/30\n",
      "100/100 [==============================] - 39s 392ms/step - loss: 0.4968 - acc: 0.7435 - val_loss: 0.2500 - val_acc: 0.9040\n",
      "Epoch 2/30\n",
      "100/100 [==============================] - 34s 336ms/step - loss: 0.2973 - acc: 0.8705 - val_loss: 0.1829 - val_acc: 0.9220\n",
      "Epoch 3/30\n",
      "100/100 [==============================] - 34s 337ms/step - loss: 0.2404 - acc: 0.9000 - val_loss: 0.0445 - val_acc: 0.8160\n",
      "Epoch 4/30\n",
      "100/100 [==============================] - 34s 337ms/step - loss: 0.2038 - acc: 0.9185 - val_loss: 0.0232 - val_acc: 0.9610\n",
      "Epoch 5/30\n",
      "100/100 [==============================] - 34s 338ms/step - loss: 0.1523 - acc: 0.9410 - val_loss: 0.1184 - val_acc: 0.9670\n",
      "Epoch 6/30\n",
      "100/100 [==============================] - 34s 338ms/step - loss: 0.1479 - acc: 0.9410 - val_loss: 0.1460 - val_acc: 0.9350\n",
      "Epoch 7/30\n",
      "100/100 [==============================] - 34s 338ms/step - loss: 0.1167 - acc: 0.9525 - val_loss: 0.0112 - val_acc: 0.9580\n",
      "Epoch 8/30\n",
      "100/100 [==============================] - 34s 338ms/step - loss: 0.1109 - acc: 0.9645 - val_loss: 0.1944 - val_acc: 0.9340\n",
      "Epoch 9/30\n",
      "100/100 [==============================] - 34s 338ms/step - loss: 0.1096 - acc: 0.9570 - val_loss: 0.0047 - val_acc: 0.9450\n",
      "Epoch 10/30\n",
      "100/100 [==============================] - 34s 338ms/step - loss: 0.0999 - acc: 0.9635 - val_loss: 0.0681 - val_acc: 0.9580\n",
      "Epoch 11/30\n",
      "100/100 [==============================] - 34s 338ms/step - loss: 0.1019 - acc: 0.9585 - val_loss: 0.4176 - val_acc: 0.9600\n",
      "Epoch 12/30\n",
      "100/100 [==============================] - 34s 338ms/step - loss: 0.0668 - acc: 0.9685 - val_loss: 9.8396e-05 - val_acc: 0.9630\n",
      "Epoch 13/30\n",
      "100/100 [==============================] - 34s 338ms/step - loss: 0.0600 - acc: 0.9770 - val_loss: 0.2676 - val_acc: 0.9670\n",
      "Epoch 14/30\n",
      "100/100 [==============================] - 34s 337ms/step - loss: 0.0735 - acc: 0.9720 - val_loss: 0.0968 - val_acc: 0.9690\n",
      "Epoch 15/30\n",
      "100/100 [==============================] - 34s 338ms/step - loss: 0.0621 - acc: 0.9755 - val_loss: 8.5005e-04 - val_acc: 0.9470\n",
      "Epoch 16/30\n",
      "100/100 [==============================] - 34s 338ms/step - loss: 0.0578 - acc: 0.9785 - val_loss: 0.3364 - val_acc: 0.9760\n",
      "Epoch 17/30\n",
      "100/100 [==============================] - 34s 337ms/step - loss: 0.0535 - acc: 0.9840 - val_loss: 0.2903 - val_acc: 0.9530\n",
      "Epoch 18/30\n",
      "100/100 [==============================] - 34s 337ms/step - loss: 0.0607 - acc: 0.9785 - val_loss: 4.9258e-04 - val_acc: 0.9650\n",
      "Epoch 19/30\n",
      "100/100 [==============================] - 34s 337ms/step - loss: 0.0552 - acc: 0.9810 - val_loss: 0.0015 - val_acc: 0.9700\n",
      "Epoch 20/30\n",
      "100/100 [==============================] - 34s 338ms/step - loss: 0.0577 - acc: 0.9800 - val_loss: 0.1265 - val_acc: 0.9710\n",
      "Epoch 21/30\n",
      "100/100 [==============================] - 34s 338ms/step - loss: 0.0454 - acc: 0.9840 - val_loss: 1.5550 - val_acc: 0.9420\n",
      "Epoch 22/30\n",
      "100/100 [==============================] - 34s 338ms/step - loss: 0.0397 - acc: 0.9860 - val_loss: 0.3860 - val_acc: 0.9680\n",
      "Epoch 23/30\n",
      "100/100 [==============================] - 34s 337ms/step - loss: 0.0520 - acc: 0.9825 - val_loss: 0.0060 - val_acc: 0.9620\n",
      "Epoch 24/30\n",
      "100/100 [==============================] - 34s 337ms/step - loss: 0.0373 - acc: 0.9875 - val_loss: 0.4426 - val_acc: 0.9430\n",
      "Epoch 25/30\n",
      "100/100 [==============================] - 34s 337ms/step - loss: 0.0400 - acc: 0.9875 - val_loss: 8.9879e-05 - val_acc: 0.9520\n",
      "Epoch 26/30\n",
      "100/100 [==============================] - 34s 338ms/step - loss: 0.0368 - acc: 0.9865 - val_loss: 0.1115 - val_acc: 0.9650\n",
      "Epoch 27/30\n",
      "100/100 [==============================] - 34s 337ms/step - loss: 0.0373 - acc: 0.9875 - val_loss: 0.0014 - val_acc: 0.9670\n",
      "Epoch 28/30\n",
      "100/100 [==============================] - 34s 337ms/step - loss: 0.0549 - acc: 0.9835 - val_loss: 0.0320 - val_acc: 0.9680\n",
      "Epoch 29/30\n",
      "100/100 [==============================] - 34s 337ms/step - loss: 0.0365 - acc: 0.9890 - val_loss: 0.0072 - val_acc: 0.9720\n",
      "Epoch 30/30\n",
      "100/100 [==============================] - 34s 337ms/step - loss: 0.0414 - acc: 0.9865 - val_loss: 0.0173 - val_acc: 0.9640\n"
     ]
    }
   ],
   "source": [
    "history = model.fit_generator(\n",
    "    train_generator,\n",
    "    steps_per_epoch = 100,\n",
    "    epochs = 30,\n",
    "    validation_data = validation_generator,\n",
    "    validation_steps = 50)"
   ]
  },
  {
   "cell_type": "code",
   "execution_count": 9,
   "metadata": {},
   "outputs": [
    {
     "data": {
      "image/png": "[encoded data removed]",
      "text/plain": [
       "<Figure size 432x288 with 1 Axes>"
      ]
     },
     "metadata": {
      "needs_background": "light"
     },
     "output_type": "display_data"
    },
    {
     "data": {
      "image/png": "[encoded data removed]",
      "text/plain": [
       "<Figure size 432x288 with 1 Axes>"
      ]
     },
     "metadata": {
      "needs_background": "light"
     },
     "output_type": "display_data"
    }
   ],
   "source": [
    "import matplotlib.pyplot as plt\n",
    "acc = history.history['acc']\n",
    "val_acc = history.history['val_acc']\n",
    "loss = history.history['loss']\n",
    "val_loss = history.history['val_loss']\n",
    "\n",
    "epochs = range(1, len(acc) + 1)\n",
    "plt.plot(epochs, acc, 'bo', label='Training acc')\n",
    "plt.plot(epochs, val_acc, 'b', label='Validation acc')\n",
    "plt.title('Training and validation accuracy')\n",
    "plt.legend()\n",
    "\n",
    "plt.figure()\n",
    "\n",
    "plt.plot(epochs, loss, 'bo', label='Training loss')\n",
    "plt.plot(epochs, val_loss, 'b', label='Validation loss')\n",
    "plt.title('Training and validation loss')\n",
    "plt.legend()\n",
    "\n",
    "plt.show()"
   ]
  },
  {
   "cell_type": "code",
   "execution_count": 10,
   "metadata": {},
   "outputs": [
    {
     "name": "stdout",
     "output_type": "stream",
     "text": [
      "Model: \"vgg16\"\n",
      "_________________________________________________________________\n",
      "Layer (type)                 Output Shape              Param #   \n",
      "=================================================================\n",
      "input_1 (InputLayer)         (None, 150, 150, 3)       0         \n",
      "_________________________________________________________________\n",
      "block1_conv1 (Conv2D)        (None, 150, 150, 64)      1792      \n",
      "_________________________________________________________________\n",
      "block1_conv2 (Conv2D)        (None, 150, 150, 64)      36928     \n",
      "_________________________________________________________________\n",
      "block1_pool (MaxPooling2D)   (None, 75, 75, 64)        0         \n",
      "_________________________________________________________________\n",
      "block2_conv1 (Conv2D)        (None, 75, 75, 128)       73856     \n",
      "_________________________________________________________________\n",
      "block2_conv2 (Conv2D)        (None, 75, 75, 128)       147584    \n",
      "_________________________________________________________________\n",
      "block2_pool (MaxPooling2D)   (None, 37, 37, 128)       0         \n",
      "_________________________________________________________________\n",
      "block3_conv1 (Conv2D)        (None, 37, 37, 256)       295168    \n",
      "_________________________________________________________________\n",
      "block3_conv2 (Conv2D)        (None, 37, 37, 256)       590080    \n",
      "_________________________________________________________________\n",
      "block3_conv3 (Conv2D)        (None, 37, 37, 256)       590080    \n",
      "_________________________________________________________________\n",
      "block3_pool (MaxPooling2D)   (None, 18, 18, 256)       0         \n",
      "_________________________________________________________________\n",
      "block4_conv1 (Conv2D)        (None, 18, 18, 512)       1180160   \n",
      "_________________________________________________________________\n",
      "block4_conv2 (Conv2D)        (None, 18, 18, 512)       2359808   \n",
      "_________________________________________________________________\n",
      "block4_conv3 (Conv2D)        (None, 18, 18, 512)       2359808   \n",
      "_________________________________________________________________\n",
      "block4_pool (MaxPooling2D)   (None, 9, 9, 512)         0         \n",
      "_________________________________________________________________\n",
      "block5_conv1 (Conv2D)        (None, 9, 9, 512)         2359808   \n",
      "_________________________________________________________________\n",
      "block5_conv2 (Conv2D)        (None, 9, 9, 512)         2359808   \n",
      "_________________________________________________________________\n",
      "block5_conv3 (Conv2D)        (None, 9, 9, 512)         2359808   \n",
      "_________________________________________________________________\n",
      "block5_pool (MaxPooling2D)   (None, 4, 4, 512)         0         \n",
      "=================================================================\n",
      "Total params: 14,714,688\n",
      "Trainable params: 14,714,688\n",
      "Non-trainable params: 0\n",
      "_________________________________________________________________\n"
     ]
    }
   ],
   "source": [
    "conv_base.summary()"
   ]
  },
  {
   "cell_type": "code",
   "execution_count": 11,
   "metadata": {},
   "outputs": [],
   "source": [
    "conv_base.trainable = True\n",
    "\n",
    "set_trainable = False\n",
    "for layer in conv_base.layers:\n",
    "    if layer.name == \"block5_conv1\":\n",
    "        set_trainable = True\n",
    "    if set_trainable:\n",
    "        layer.trainable = True\n",
    "    else:\n",
    "        layer.trainable = False"
   ]
  },
  {
   "cell_type": "code",
   "execution_count": 12,
   "metadata": {},
   "outputs": [
    {
     "name": "stdout",
     "output_type": "stream",
     "text": [
      "Epoch 1/100\n",
      "100/100 [==============================] - 18s 175ms/step - loss: 0.0122 - acc: 0.9960 - val_loss: 5.2286e-06 - val_acc: 0.9720\n",
      "Epoch 2/100\n",
      "100/100 [==============================] - 17s 172ms/step - loss: 0.0183 - acc: 0.9945 - val_loss: 1.8830e-06 - val_acc: 0.9730\n",
      "Epoch 3/100\n",
      "100/100 [==============================] - 17s 172ms/step - loss: 0.0100 - acc: 0.9965 - val_loss: 2.0826e-04 - val_acc: 0.9700\n",
      "Epoch 4/100\n",
      "100/100 [==============================] - 17s 172ms/step - loss: 0.0075 - acc: 0.9965 - val_loss: 0.0415 - val_acc: 0.9630\n",
      "Epoch 5/100\n",
      "100/100 [==============================] - 17s 172ms/step - loss: 0.0076 - acc: 0.9970 - val_loss: 1.8397 - val_acc: 0.9780\n",
      "Epoch 6/100\n",
      "100/100 [==============================] - 17s 172ms/step - loss: 0.0048 - acc: 0.9975 - val_loss: 0.0482 - val_acc: 0.9680\n",
      "Epoch 7/100\n",
      "100/100 [==============================] - 17s 172ms/step - loss: 0.0118 - acc: 0.9955 - val_loss: 0.0032 - val_acc: 0.9740\n",
      "Epoch 8/100\n",
      "100/100 [==============================] - 17s 172ms/step - loss: 0.0056 - acc: 0.9985 - val_loss: 0.1830 - val_acc: 0.9740\n",
      "Epoch 9/100\n",
      "100/100 [==============================] - 17s 172ms/step - loss: 0.0076 - acc: 0.9980 - val_loss: 1.7540e-04 - val_acc: 0.9760\n",
      "Epoch 10/100\n",
      "100/100 [==============================] - 17s 172ms/step - loss: 0.0080 - acc: 0.9975 - val_loss: 0.5813 - val_acc: 0.9700\n",
      "Epoch 11/100\n",
      "100/100 [==============================] - 17s 172ms/step - loss: 0.0115 - acc: 0.9955 - val_loss: 0.0386 - val_acc: 0.9690\n",
      "Epoch 12/100\n",
      "100/100 [==============================] - 17s 172ms/step - loss: 0.0072 - acc: 0.9975 - val_loss: 0.0015 - val_acc: 0.9750\n",
      "Epoch 13/100\n",
      "100/100 [==============================] - 17s 172ms/step - loss: 0.0077 - acc: 0.9975 - val_loss: 1.8323 - val_acc: 0.9750\n",
      "Epoch 14/100\n",
      "100/100 [==============================] - 17s 172ms/step - loss: 0.0048 - acc: 0.9985 - val_loss: 0.2052 - val_acc: 0.9710\n",
      "Epoch 15/100\n",
      "100/100 [==============================] - 17s 172ms/step - loss: 0.0088 - acc: 0.9980 - val_loss: 0.3681 - val_acc: 0.9730\n",
      "Epoch 16/100\n",
      "100/100 [==============================] - 17s 172ms/step - loss: 0.0094 - acc: 0.9975 - val_loss: 0.9151 - val_acc: 0.9710\n",
      "Epoch 17/100\n",
      "100/100 [==============================] - 17s 172ms/step - loss: 0.0069 - acc: 0.9965 - val_loss: 0.7579 - val_acc: 0.9730\n",
      "Epoch 18/100\n",
      "100/100 [==============================] - 17s 172ms/step - loss: 0.0046 - acc: 0.9965 - val_loss: 5.5287e-04 - val_acc: 0.9730\n",
      "Epoch 19/100\n",
      "100/100 [==============================] - 17s 172ms/step - loss: 0.0016 - acc: 0.9995 - val_loss: 0.8862 - val_acc: 0.9710\n",
      "Epoch 20/100\n",
      "100/100 [==============================] - 17s 172ms/step - loss: 0.0127 - acc: 0.9960 - val_loss: 0.4358 - val_acc: 0.9750\n",
      "Epoch 21/100\n",
      "100/100 [==============================] - 17s 172ms/step - loss: 0.0049 - acc: 0.9985 - val_loss: 0.6957 - val_acc: 0.9750\n",
      "Epoch 22/100\n",
      "100/100 [==============================] - 17s 172ms/step - loss: 0.0078 - acc: 0.9980 - val_loss: 9.8032e-04 - val_acc: 0.9760\n",
      "Epoch 23/100\n",
      "100/100 [==============================] - 17s 172ms/step - loss: 0.0063 - acc: 0.9980 - val_loss: 7.0156e-09 - val_acc: 0.9700\n",
      "Epoch 24/100\n",
      "100/100 [==============================] - 17s 172ms/step - loss: 0.0018 - acc: 0.9995 - val_loss: 1.3038 - val_acc: 0.9680\n",
      "Epoch 25/100\n",
      "100/100 [==============================] - 17s 172ms/step - loss: 0.0099 - acc: 0.9975 - val_loss: 0.0071 - val_acc: 0.9660\n",
      "Epoch 26/100\n",
      "100/100 [==============================] - 17s 172ms/step - loss: 0.0048 - acc: 0.9975 - val_loss: 1.2209 - val_acc: 0.9760\n",
      "Epoch 27/100\n",
      "100/100 [==============================] - 17s 172ms/step - loss: 0.0066 - acc: 0.9970 - val_loss: 0.2278 - val_acc: 0.9680\n",
      "Epoch 28/100\n",
      "100/100 [==============================] - 17s 172ms/step - loss: 0.0167 - acc: 0.9965 - val_loss: 3.1557e-07 - val_acc: 0.9750\n",
      "Epoch 29/100\n",
      "100/100 [==============================] - 17s 172ms/step - loss: 0.0059 - acc: 0.9980 - val_loss: 0.0023 - val_acc: 0.9730\n",
      "Epoch 30/100\n",
      "100/100 [==============================] - 17s 172ms/step - loss: 0.0062 - acc: 0.9980 - val_loss: 9.3434e-11 - val_acc: 0.9670\n",
      "Epoch 31/100\n",
      "100/100 [==============================] - 17s 172ms/step - loss: 0.0042 - acc: 0.9990 - val_loss: 1.9547e-12 - val_acc: 0.9730\n",
      "Epoch 32/100\n",
      "100/100 [==============================] - 17s 172ms/step - loss: 0.0116 - acc: 0.9970 - val_loss: 1.2640e-04 - val_acc: 0.9740\n",
      "Epoch 33/100\n",
      "100/100 [==============================] - 17s 172ms/step - loss: 0.0087 - acc: 0.9975 - val_loss: 0.9510 - val_acc: 0.9720\n",
      "Epoch 34/100\n",
      "100/100 [==============================] - 17s 172ms/step - loss: 0.0031 - acc: 0.9985 - val_loss: 0.0064 - val_acc: 0.9730\n",
      "Epoch 35/100\n",
      "100/100 [==============================] - 17s 172ms/step - loss: 0.0089 - acc: 0.9975 - val_loss: 0.2687 - val_acc: 0.9710\n",
      "Epoch 36/100\n",
      "100/100 [==============================] - 17s 172ms/step - loss: 0.0025 - acc: 0.9995 - val_loss: 0.0888 - val_acc: 0.9710\n",
      "Epoch 37/100\n",
      "100/100 [==============================] - 17s 172ms/step - loss: 0.0056 - acc: 0.9975 - val_loss: 1.0086e-06 - val_acc: 0.9730\n",
      "Epoch 38/100\n",
      "100/100 [==============================] - 17s 172ms/step - loss: 0.0063 - acc: 0.9990 - val_loss: 1.9921e-04 - val_acc: 0.9730\n",
      "Epoch 39/100\n",
      "100/100 [==============================] - 17s 172ms/step - loss: 0.0099 - acc: 0.9975 - val_loss: 0.0013 - val_acc: 0.9730\n",
      "Epoch 40/100\n",
      "100/100 [==============================] - 17s 172ms/step - loss: 0.0078 - acc: 0.9975 - val_loss: 0.6858 - val_acc: 0.9690\n",
      "Epoch 41/100\n",
      "100/100 [==============================] - 17s 172ms/step - loss: 0.0071 - acc: 0.9980 - val_loss: 0.0161 - val_acc: 0.9720\n",
      "Epoch 42/100\n",
      "100/100 [==============================] - 17s 172ms/step - loss: 0.0114 - acc: 0.9980 - val_loss: 7.2864e-08 - val_acc: 0.9720\n",
      "Epoch 43/100\n",
      "100/100 [==============================] - 17s 172ms/step - loss: 0.0031 - acc: 0.9990 - val_loss: 0.1604 - val_acc: 0.9730\n",
      "Epoch 44/100\n",
      "100/100 [==============================] - 17s 172ms/step - loss: 0.0062 - acc: 0.9975 - val_loss: 0.3647 - val_acc: 0.9670\n",
      "Epoch 45/100\n",
      "100/100 [==============================] - 17s 172ms/step - loss: 0.0057 - acc: 0.9985 - val_loss: 0.1466 - val_acc: 0.9700\n",
      "Epoch 46/100\n",
      "100/100 [==============================] - 17s 172ms/step - loss: 0.0082 - acc: 0.9980 - val_loss: 0.5614 - val_acc: 0.9710\n",
      "Epoch 47/100\n",
      "100/100 [==============================] - 17s 172ms/step - loss: 0.0027 - acc: 0.9985 - val_loss: 0.8658 - val_acc: 0.9680\n",
      "Epoch 48/100\n",
      "100/100 [==============================] - 17s 172ms/step - loss: 0.0022 - acc: 0.9995 - val_loss: 4.0690e-06 - val_acc: 0.9690\n",
      "Epoch 49/100\n",
      "100/100 [==============================] - 17s 172ms/step - loss: 0.0075 - acc: 0.9985 - val_loss: 6.7340e-06 - val_acc: 0.9680\n",
      "Epoch 50/100\n",
      "100/100 [==============================] - 17s 172ms/step - loss: 0.0055 - acc: 0.9980 - val_loss: 0.6800 - val_acc: 0.9680\n",
      "Epoch 51/100\n",
      "100/100 [==============================] - 17s 172ms/step - loss: 0.0073 - acc: 0.9970 - val_loss: 0.2777 - val_acc: 0.9680\n",
      "Epoch 52/100\n",
      "100/100 [==============================] - 17s 172ms/step - loss: 0.0023 - acc: 0.9990 - val_loss: 0.0022 - val_acc: 0.9720\n",
      "Epoch 53/100\n",
      "100/100 [==============================] - 17s 172ms/step - loss: 0.0018 - acc: 0.9995 - val_loss: 1.0315 - val_acc: 0.9660\n",
      "Epoch 54/100\n",
      "100/100 [==============================] - 17s 172ms/step - loss: 0.0032 - acc: 0.9985 - val_loss: 0.6642 - val_acc: 0.9710\n",
      "Epoch 55/100\n",
      "100/100 [==============================] - 17s 172ms/step - loss: 0.0053 - acc: 0.9980 - val_loss: 0.2933 - val_acc: 0.9730\n",
      "Epoch 56/100\n",
      "100/100 [==============================] - 17s 172ms/step - loss: 6.8070e-04 - acc: 1.0000 - val_loss: 1.0889 - val_acc: 0.9720\n",
      "Epoch 57/100\n",
      "100/100 [==============================] - 17s 172ms/step - loss: 0.0120 - acc: 0.9980 - val_loss: 0.7724 - val_acc: 0.9710\n",
      "Epoch 58/100\n",
      "100/100 [==============================] - 17s 172ms/step - loss: 0.0034 - acc: 0.9985 - val_loss: 0.7702 - val_acc: 0.9720\n",
      "Epoch 59/100\n",
      "100/100 [==============================] - 17s 172ms/step - loss: 0.0046 - acc: 0.9985 - val_loss: 0.6697 - val_acc: 0.9710\n",
      "Epoch 60/100\n"
     ]
    },
    {
     "name": "stdout",
     "output_type": "stream",
     "text": [
      "100/100 [==============================] - 17s 172ms/step - loss: 0.0029 - acc: 0.9990 - val_loss: 2.3554e-04 - val_acc: 0.9720\n",
      "Epoch 61/100\n",
      "100/100 [==============================] - 17s 172ms/step - loss: 0.0106 - acc: 0.9980 - val_loss: 0.0043 - val_acc: 0.9720\n",
      "Epoch 62/100\n",
      "100/100 [==============================] - 17s 172ms/step - loss: 8.5599e-04 - acc: 1.0000 - val_loss: 2.2894e-04 - val_acc: 0.9720\n",
      "Epoch 63/100\n",
      "100/100 [==============================] - 17s 172ms/step - loss: 0.0121 - acc: 0.9975 - val_loss: 1.7982e-06 - val_acc: 0.9700\n",
      "Epoch 64/100\n",
      "100/100 [==============================] - 17s 172ms/step - loss: 0.0031 - acc: 0.9990 - val_loss: 0.1400 - val_acc: 0.9640\n",
      "Epoch 65/100\n",
      "100/100 [==============================] - 17s 172ms/step - loss: 0.0075 - acc: 0.9975 - val_loss: 8.5620e-07 - val_acc: 0.9630\n",
      "Epoch 66/100\n",
      "100/100 [==============================] - 17s 172ms/step - loss: 0.0045 - acc: 0.9985 - val_loss: 0.3963 - val_acc: 0.9690\n",
      "Epoch 67/100\n",
      "100/100 [==============================] - 17s 172ms/step - loss: 0.0024 - acc: 0.9985 - val_loss: 0.0014 - val_acc: 0.9690\n",
      "Epoch 68/100\n",
      "100/100 [==============================] - 17s 172ms/step - loss: 0.0023 - acc: 0.9985 - val_loss: 7.9787e-04 - val_acc: 0.9670\n",
      "Epoch 69/100\n",
      "100/100 [==============================] - 17s 172ms/step - loss: 0.0015 - acc: 0.9995 - val_loss: 3.4573e-06 - val_acc: 0.9570\n",
      "Epoch 70/100\n",
      "100/100 [==============================] - 17s 172ms/step - loss: 0.0094 - acc: 0.9965 - val_loss: 0.2930 - val_acc: 0.9650\n",
      "Epoch 71/100\n",
      "100/100 [==============================] - 17s 172ms/step - loss: 0.0026 - acc: 0.9990 - val_loss: 1.6777e-07 - val_acc: 0.9680\n",
      "Epoch 72/100\n",
      "100/100 [==============================] - 17s 172ms/step - loss: 0.0050 - acc: 0.9980 - val_loss: 1.2461e-06 - val_acc: 0.9670\n",
      "Epoch 73/100\n",
      "100/100 [==============================] - 17s 172ms/step - loss: 0.0051 - acc: 0.9985 - val_loss: 5.5767e-07 - val_acc: 0.9710\n",
      "Epoch 74/100\n",
      "100/100 [==============================] - 17s 172ms/step - loss: 0.0034 - acc: 0.9990 - val_loss: 2.3257e-09 - val_acc: 0.9720\n",
      "Epoch 75/100\n",
      "100/100 [==============================] - 17s 172ms/step - loss: 0.0088 - acc: 0.9985 - val_loss: 0.0080 - val_acc: 0.9680\n",
      "Epoch 76/100\n",
      "100/100 [==============================] - 17s 172ms/step - loss: 0.0010 - acc: 0.9995 - val_loss: 0.0340 - val_acc: 0.9700\n",
      "Epoch 77/100\n",
      "100/100 [==============================] - 17s 172ms/step - loss: 0.0051 - acc: 0.9975 - val_loss: 6.7264e-08 - val_acc: 0.9690\n",
      "Epoch 78/100\n",
      "100/100 [==============================] - 17s 172ms/step - loss: 0.0013 - acc: 0.9995 - val_loss: 0.8360 - val_acc: 0.9700\n",
      "Epoch 79/100\n",
      "100/100 [==============================] - 17s 172ms/step - loss: 0.0012 - acc: 0.9995 - val_loss: 4.4321e-08 - val_acc: 0.9710\n",
      "Epoch 80/100\n",
      "100/100 [==============================] - 17s 172ms/step - loss: 6.7924e-04 - acc: 1.0000 - val_loss: 2.4685e-06 - val_acc: 0.9670\n",
      "Epoch 81/100\n",
      "100/100 [==============================] - 17s 172ms/step - loss: 0.0088 - acc: 0.9975 - val_loss: 0.8115 - val_acc: 0.9680\n",
      "Epoch 82/100\n",
      "100/100 [==============================] - 17s 172ms/step - loss: 0.0115 - acc: 0.9975 - val_loss: 0.4082 - val_acc: 0.9720\n",
      "Epoch 83/100\n",
      "100/100 [==============================] - 17s 172ms/step - loss: 0.0032 - acc: 0.9980 - val_loss: 0.0145 - val_acc: 0.9700\n",
      "Epoch 84/100\n",
      "100/100 [==============================] - 17s 172ms/step - loss: 0.0035 - acc: 0.9985 - val_loss: 0.7370 - val_acc: 0.9740\n",
      "Epoch 85/100\n",
      "100/100 [==============================] - 17s 172ms/step - loss: 1.8150e-04 - acc: 1.0000 - val_loss: 0.5231 - val_acc: 0.9690\n",
      "Epoch 86/100\n",
      "100/100 [==============================] - 17s 172ms/step - loss: 0.0021 - acc: 0.9990 - val_loss: 0.1729 - val_acc: 0.9700\n",
      "Epoch 87/100\n",
      "100/100 [==============================] - 17s 172ms/step - loss: 0.0021 - acc: 0.9995 - val_loss: 0.1424 - val_acc: 0.9690\n",
      "Epoch 88/100\n",
      "100/100 [==============================] - 17s 172ms/step - loss: 0.0021 - acc: 0.9990 - val_loss: 0.0243 - val_acc: 0.9730\n",
      "Epoch 89/100\n",
      "100/100 [==============================] - 17s 172ms/step - loss: 0.0113 - acc: 0.9985 - val_loss: 1.2011e-09 - val_acc: 0.9740\n",
      "Epoch 90/100\n",
      "100/100 [==============================] - 17s 172ms/step - loss: 0.0098 - acc: 0.9975 - val_loss: 0.0462 - val_acc: 0.9650\n",
      "Epoch 91/100\n",
      "100/100 [==============================] - 17s 172ms/step - loss: 0.0048 - acc: 0.9980 - val_loss: 1.2960e-10 - val_acc: 0.9700\n",
      "Epoch 92/100\n",
      "100/100 [==============================] - 17s 172ms/step - loss: 0.0019 - acc: 0.9995 - val_loss: 1.0809 - val_acc: 0.9720\n",
      "Epoch 93/100\n",
      "100/100 [==============================] - 17s 172ms/step - loss: 0.0017 - acc: 0.9995 - val_loss: 1.2957e-06 - val_acc: 0.9720\n",
      "Epoch 94/100\n",
      "100/100 [==============================] - 17s 172ms/step - loss: 0.0206 - acc: 0.9945 - val_loss: 2.8049e-05 - val_acc: 0.9680\n",
      "Epoch 95/100\n",
      "100/100 [==============================] - 17s 172ms/step - loss: 0.0063 - acc: 0.9975 - val_loss: 7.6588e-05 - val_acc: 0.9700\n",
      "Epoch 96/100\n",
      "100/100 [==============================] - 17s 172ms/step - loss: 0.0037 - acc: 0.9990 - val_loss: 0.0809 - val_acc: 0.9700\n",
      "Epoch 97/100\n",
      "100/100 [==============================] - 17s 172ms/step - loss: 0.0014 - acc: 0.9990 - val_loss: 0.2210 - val_acc: 0.9660\n",
      "Epoch 98/100\n",
      "100/100 [==============================] - 17s 172ms/step - loss: 0.0058 - acc: 0.9980 - val_loss: 0.1444 - val_acc: 0.9700\n",
      "Epoch 99/100\n",
      "100/100 [==============================] - 17s 172ms/step - loss: 3.4081e-04 - acc: 1.0000 - val_loss: 1.7423e-04 - val_acc: 0.9700\n",
      "Epoch 100/100\n",
      "100/100 [==============================] - 17s 173ms/step - loss: 0.0025 - acc: 0.9995 - val_loss: 6.1681e-04 - val_acc: 0.9710\n"
     ]
    }
   ],
   "source": [
    "model.compile(loss = \"binary_crossentropy\",\n",
    "             optimizer = optimizers.RMSprop(lr=1e-5),\n",
    "             metrics = [\"acc\"])\n",
    "\n",
    "history = model.fit_generator(\n",
    "    train_generator, \n",
    "    steps_per_epoch = 100,\n",
    "    epochs = 100, \n",
    "    validation_data = validation_generator,\n",
    "    validation_steps = 50)"
   ]
  },
  {
   "cell_type": "code",
   "execution_count": 13,
   "metadata": {},
   "outputs": [
    {
     "data": {
      "image/png": "[encoded data removed]",
      "text/plain": [
       "<Figure size 432x288 with 1 Axes>"
      ]
     },
     "metadata": {
      "needs_background": "light"
     },
     "output_type": "display_data"
    },
    {
     "data": {
      "image/png": "[encoded data removed]",
      "text/plain": [
       "<Figure size 432x288 with 1 Axes>"
      ]
     },
     "metadata": {
      "needs_background": "light"
     },
     "output_type": "display_data"
    }
   ],
   "source": [
    "acc = history.history['acc']\n",
    "val_acc = history.history['val_acc']\n",
    "loss = history.history['loss']\n",
    "val_loss = history.history['val_loss']\n",
    "\n",
    "epochs = range(1, len(acc) + 1)\n",
    "plt.plot(epochs, acc, 'bo', label='Training acc')\n",
    "plt.plot(epochs, val_acc, 'b', label='Validation acc')\n",
    "plt.title('Training and validation accuracy')\n",
    "plt.legend()\n",
    "\n",
    "plt.figure()\n",
    "\n",
    "plt.plot(epochs, loss, 'bo', label='Training loss')\n",
    "plt.plot(epochs, val_loss, 'b', label='Validation loss')\n",
    "plt.title('Training and validation loss')\n",
    "plt.legend()\n",
    "\n",
    "plt.show()"
   ]
  },
  {
   "cell_type": "code",
   "execution_count": 15,
   "metadata": {},
   "outputs": [],
   "source": [
    "#def smooth_curve(points, factor=0.8):\n",
    "    #smoothed_points = []\n",
    "    #for point in points:\n",
    "        #if smoothed_points:\n",
    "            #previous = smoothed_points[-1]\n",
    "            #smoothed_points.append(previous * factor + point * (1 - factor))\n",
    "        #else:\n",
    "            #smoothed_points.append(point)\n",
    "            #return smoothed_points\n",
    "\n",
    "#plt.plot(epochs,\n",
    "         #smooth_curve(acc), 'bo', label='Smoothed training acc')\n",
    "#plt.plot(epochs,\n",
    "         #smooth_curve(val_acc), 'b', label='Smoothed validation acc')\n",
    "#plt.title('Training and validation accuracy')\n",
    "#plt.legend()\n",
    "\n",
    "#plt.figure()\n",
    "\n",
    "#plt.plot(epochs,\n",
    "         #smooth_curve(loss), 'bo', label='Smoothed training loss')\n",
    "#plt.plot(epochs,\n",
    "         #smooth_curve(val_loss), 'b', label='Smoothed validation loss') \n",
    "#plt.title('Training and validation loss') \n",
    "#plt.legend()\n",
    "\n",
    "#plt.show()"
   ]
  },
  {
   "cell_type": "code",
   "execution_count": null,
   "metadata": {},
   "outputs": [],
   "source": []
  }
 ],
 "metadata": {
  "kernelspec": {
   "display_name": "Python 3",
   "language": "python",
   "name": "python3"
  },
  "language_info": {
   "codemirror_mode": {
    "name": "ipython",
    "version": 3
   },
   "file_extension": ".py",
   "mimetype": "text/x-python",
   "name": "python",
   "nbconvert_exporter": "python",
   "pygments_lexer": "ipython3",
   "version": "3.7.6"
  }
 },
 "nbformat": 4,
 "nbformat_minor": 4
}
