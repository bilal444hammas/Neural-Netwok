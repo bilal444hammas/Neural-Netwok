{
 "cells": [
  {
   "cell_type": "markdown",
   "metadata": {},
   "source": [
    "# ASSIGNMENT : IRIS MULTI-CLASS CLASSIFICATION\n",
    "\n",
    "###### Purpose :\n",
    "To predict the species of flower .\n",
    "###### Description :\n",
    "The dataset contains a set of 150 records under 5 attributes - Petal Length, Petal Width, Sepal Length, Sepal width and Class(Species).\n",
    "###### Requirements :\n",
    "1) Code must be in tf 2.0 .\n",
    "\n",
    "2) Accuracy must be in between 95-97% .\n",
    "\n",
    "3) Model shouldn't be Overfit (You can add drop out layer for this) ."
   ]
  },
  {
   "cell_type": "markdown",
   "metadata": {},
   "source": [
    "### STEP 1 : Load all the necessary libraries "
   ]
  },
  {
   "cell_type": "code",
   "execution_count": 1,
   "metadata": {},
   "outputs": [
    {
     "name": "stderr",
     "output_type": "stream",
     "text": [
      "Using TensorFlow backend.\n"
     ]
    }
   ],
   "source": [
    "import pandas as pd\n",
    "import numpy as np\n",
    "import tensorflow as tf\n",
    "from keras import models\n",
    "from keras import optimizers\n",
    "from keras import layers\n",
    "from sklearn.model_selection import train_test_split"
   ]
  },
  {
   "cell_type": "markdown",
   "metadata": {},
   "source": [
    "### STEP 2 : Data Preparation\n",
    "This step consists of multiple sub steps from data loading [download](https://github.com/ramsha275/PIAIC-Sir-Anees-Quarter-2/blob/master/Deep%20Learning/iris.csv),shuffling ,spliting in **Train** and **Test** sets to one-hot-enconding on labels . \n"
   ]
  },
  {
   "cell_type": "code",
   "execution_count": 2,
   "metadata": {},
   "outputs": [
    {
     "name": "stdout",
     "output_type": "stream",
     "text": [
      "(150, 5)\n"
     ]
    }
   ],
   "source": [
    "data = pd.read_csv(\"iris.csv\")\n",
    "data.head()\n",
    "print(data.shape)\n",
    "\n",
    "y = data[\"variety\"]\n",
    "\n",
    "features = [\"sepal.length\", \"sepal.width\", \"petal.length\", \"petal.width\"]\n",
    "\n",
    "x = data[features]\n",
    "\n",
    "training_x, test_x, training_y, test_y = train_test_split(x, y)\n",
    "\n",
    "train_y = pd.get_dummies(training_y) # built in pandas one-hot encoding function.\n",
    "val_y = pd.get_dummies(test_y)\n",
    "train_x = pd.get_dummies(training_x)\n",
    "val_x = pd.get_dummies(test_x)\n",
    "\n",
    "nptrain_y = np.array(train_y)# coverting data into numpy arrays before making a model is required after using one-hot encoding function.\n",
    "npval_y = np.array(val_y)\n",
    "nptrain_x = np.array(train_x)\n",
    "npval_x = np.array(val_x)"
   ]
  },
  {
   "cell_type": "markdown",
   "metadata": {},
   "source": [
    "### STEP 3 : Model Architecture \n",
    "\n",
    "\n",
    "###### Input : 4 \n",
    "###### 1 hidden Layer : 8 nodes\n",
    "###### Output : 3"
   ]
  },
  {
   "cell_type": "code",
   "execution_count": 3,
   "metadata": {},
   "outputs": [],
   "source": [
    "model = tf.keras.models.Sequential([\n",
    "  tf.keras.layers.Dense(4, activation = \"relu\", input_shape = (4,)),\n",
    "  tf.keras.layers.Dense(8, activation='relu'),\n",
    "  tf.keras.layers.Dense(3, activation='softmax')\n",
    "])"
   ]
  },
  {
   "cell_type": "markdown",
   "metadata": {},
   "source": [
    "### STEP 4 : Compilation Step "
   ]
  },
  {
   "cell_type": "code",
   "execution_count": 11,
   "metadata": {},
   "outputs": [],
   "source": [
    "model.compile(optimizer=\"rmsprop\",\n",
    "              loss=\"categorical_crossentropy\",\n",
    "              metrics=[\"accuracy\"])"
   ]
  },
  {
   "cell_type": "markdown",
   "metadata": {},
   "source": [
    "### STEP 5 : Evaluation "
   ]
  },
  {
   "cell_type": "code",
   "execution_count": 14,
   "metadata": {},
   "outputs": [
    {
     "name": "stdout",
     "output_type": "stream",
     "text": [
      "Train on 112 samples\n",
      "Epoch 1/20\n",
      "112/112 [==============================] - 0s 1ms/sample - loss: 0.6237 - accuracy: 0.7946\n",
      "Epoch 2/20\n",
      "112/112 [==============================] - 0s 890us/sample - loss: 0.6172 - accuracy: 0.8482\n",
      "Epoch 3/20\n",
      "112/112 [==============================] - 0s 3ms/sample - loss: 0.6117 - accuracy: 0.8393\n",
      "Epoch 4/20\n",
      "112/112 [==============================] - 0s 3ms/sample - loss: 0.6056 - accuracy: 0.8661\n",
      "Epoch 5/20\n",
      "112/112 [==============================] - 0s 926us/sample - loss: 0.6000 - accuracy: 0.8661\n",
      "Epoch 6/20\n",
      "112/112 [==============================] - 0s 2ms/sample - loss: 0.5941 - accuracy: 0.8929\n",
      "Epoch 7/20\n",
      "112/112 [==============================] - 0s 107us/sample - loss: 0.5874 - accuracy: 0.8929\n",
      "Epoch 8/20\n",
      "112/112 [==============================] - 0s 739us/sample - loss: 0.5788 - accuracy: 0.8750\n",
      "Epoch 9/20\n",
      "112/112 [==============================] - 0s 2ms/sample - loss: 0.5693 - accuracy: 0.8839\n",
      "Epoch 10/20\n",
      "112/112 [==============================] - 0s 98us/sample - loss: 0.5596 - accuracy: 0.8750\n",
      "Epoch 11/20\n",
      "112/112 [==============================] - 0s 116us/sample - loss: 0.5491 - accuracy: 0.8839\n",
      "Epoch 12/20\n",
      "112/112 [==============================] - 0s 650us/sample - loss: 0.5371 - accuracy: 0.8750\n",
      "Epoch 13/20\n",
      "112/112 [==============================] - 0s 2ms/sample - loss: 0.5250 - accuracy: 0.8839\n",
      "Epoch 14/20\n",
      "112/112 [==============================] - 0s 864us/sample - loss: 0.5162 - accuracy: 0.9018\n",
      "Epoch 15/20\n",
      "112/112 [==============================] - 0s 116us/sample - loss: 0.5065 - accuracy: 0.9196\n",
      "Epoch 16/20\n",
      "112/112 [==============================] - 0s 775us/sample - loss: 0.4987 - accuracy: 0.9196\n",
      "Epoch 17/20\n",
      "112/112 [==============================] - 0s 935us/sample - loss: 0.4902 - accuracy: 0.9286\n",
      "Epoch 18/20\n",
      "112/112 [==============================] - 0s 3ms/sample - loss: 0.4832 - accuracy: 0.8929\n",
      "Epoch 19/20\n",
      "112/112 [==============================] - 0s 2ms/sample - loss: 0.4748 - accuracy: 0.9196\n",
      "Epoch 20/20\n",
      "112/112 [==============================] - 0s 2ms/sample - loss: 0.4674 - accuracy: 0.9286\n",
      "38/1 - 0s - loss: 0.4288 - accuracy: 0.9474\n"
     ]
    }
   ],
   "source": [
    "model.fit(nptrain_x,nptrain_y, epochs = 20)\n",
    "evaluation = model.evaluate(npval_x, npval_y, verbose=2)"
   ]
  },
  {
   "cell_type": "markdown",
   "metadata": {},
   "source": [
    "### STEP 6 : Prediction "
   ]
  },
  {
   "cell_type": "code",
   "execution_count": 15,
   "metadata": {},
   "outputs": [
    {
     "name": "stdout",
     "output_type": "stream",
     "text": [
      "Prediction result : [1 2]\n"
     ]
    }
   ],
   "source": [
    "new_samples = np.array([[6.4, 3.2, 4.5, 1.5], [5.8, 3.1, 5.0, 1.7]], dtype=float)\n",
    "y = model.predict_classes(new_samples)\n",
    "print(\"Prediction result :\", y)"
   ]
  },
  {
   "cell_type": "code",
   "execution_count": 20,
   "metadata": {},
   "outputs": [
    {
     "data": {
      "text/plain": [
       "array([1, 2], dtype=int64)"
      ]
     },
     "execution_count": 20,
     "metadata": {},
     "output_type": "execute_result"
    }
   ],
   "source": []
  },
  {
   "cell_type": "code",
   "execution_count": null,
   "metadata": {},
   "outputs": [],
   "source": []
  }
 ],
 "metadata": {
  "kernelspec": {
   "display_name": "Python 3",
   "language": "python",
   "name": "python3"
  },
  "language_info": {
   "codemirror_mode": {
    "name": "ipython",
    "version": 3
   },
   "file_extension": ".py",
   "mimetype": "text/x-python",
   "name": "python",
   "nbconvert_exporter": "python",
   "pygments_lexer": "ipython3",
   "version": "3.7.4"
  }
 },
 "nbformat": 4,
 "nbformat_minor": 2
}
