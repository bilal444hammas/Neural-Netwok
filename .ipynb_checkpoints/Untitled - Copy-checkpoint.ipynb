{
 "cells": [
  {
   "cell_type": "code",
   "execution_count": 1,
   "metadata": {},
   "outputs": [
    {
     "name": "stderr",
     "output_type": "stream",
     "text": [
      "Using TensorFlow backend.\n"
     ]
    }
   ],
   "source": [
    "import pandas as pd\n",
    "import numpy as np\n",
    "import tensorflow as tf\n",
    "from keras import models\n",
    "from keras import optimizers\n",
    "from keras import layers\n",
    "from sklearn.preprocessing import LabelEncoder"
   ]
  },
  {
   "cell_type": "code",
   "execution_count": 4,
   "metadata": {},
   "outputs": [
    {
     "ename": "NameError",
     "evalue": "name 'X' is not defined",
     "output_type": "error",
     "traceback": [
      "\u001b[1;31m---------------------------------------------------------------------------\u001b[0m",
      "\u001b[1;31mNameError\u001b[0m                                 Traceback (most recent call last)",
      "\u001b[1;32m<ipython-input-4-b2da91273a16>\u001b[0m in \u001b[0;36m<module>\u001b[1;34m\u001b[0m\n\u001b[0;32m     11\u001b[0m \u001b[1;32mfrom\u001b[0m \u001b[0msklearn\u001b[0m\u001b[1;33m.\u001b[0m\u001b[0mmodel_selection\u001b[0m \u001b[1;32mimport\u001b[0m \u001b[0mtrain_test_split\u001b[0m\u001b[1;33m\u001b[0m\u001b[1;33m\u001b[0m\u001b[0m\n\u001b[0;32m     12\u001b[0m \u001b[1;33m\u001b[0m\u001b[0m\n\u001b[1;32m---> 13\u001b[1;33m \u001b[0mX_train\u001b[0m\u001b[1;33m,\u001b[0m \u001b[0mX_test\u001b[0m\u001b[1;33m,\u001b[0m \u001b[0my_train\u001b[0m\u001b[1;33m,\u001b[0m \u001b[0my_test\u001b[0m \u001b[1;33m=\u001b[0m \u001b[0mtrain_test_split\u001b[0m\u001b[1;33m(\u001b[0m\u001b[0mX\u001b[0m\u001b[1;33m,\u001b[0m \u001b[0my\u001b[0m\u001b[1;33m,\u001b[0m \u001b[0mtest_size\u001b[0m\u001b[1;33m=\u001b[0m\u001b[1;36m0.2\u001b[0m\u001b[1;33m,\u001b[0m \u001b[0mrandom_state\u001b[0m\u001b[1;33m=\u001b[0m\u001b[1;36m1\u001b[0m\u001b[1;33m)\u001b[0m\u001b[1;33m\u001b[0m\u001b[1;33m\u001b[0m\u001b[0m\n\u001b[0m\u001b[0;32m     14\u001b[0m \u001b[1;33m\u001b[0m\u001b[0m\n\u001b[0;32m     15\u001b[0m \u001b[0mX_train\u001b[0m\u001b[1;33m,\u001b[0m \u001b[0mX_val\u001b[0m\u001b[1;33m,\u001b[0m \u001b[0my_train\u001b[0m\u001b[1;33m,\u001b[0m \u001b[0my_val\u001b[0m \u001b[1;33m=\u001b[0m \u001b[0mtrain_test_split\u001b[0m\u001b[1;33m(\u001b[0m\u001b[0mX_train\u001b[0m\u001b[1;33m,\u001b[0m \u001b[0my_train\u001b[0m\u001b[1;33m,\u001b[0m \u001b[0mtest_size\u001b[0m\u001b[1;33m=\u001b[0m\u001b[1;36m0.25\u001b[0m\u001b[1;33m,\u001b[0m \u001b[0mrandom_state\u001b[0m\u001b[1;33m=\u001b[0m\u001b[1;36m1\u001b[0m\u001b[1;33m)\u001b[0m\u001b[1;33m\u001b[0m\u001b[1;33m\u001b[0m\u001b[0m\n",
      "\u001b[1;31mNameError\u001b[0m: name 'X' is not defined"
     ]
    }
   ],
   "source": [
    "data = pd.read_csv(\"sonar.csv\", header = None)\n",
    "data\n",
    "#x_train = data.iloc[:144,:60]\n",
    "#y_train = data.iloc[:144,60]\n",
    "\n",
    "#x_test = data.iloc[:200,:60]\n",
    "#y_test = data.iloc[:200,60]\n",
    "\n",
    "#val_x = data.iloc[:208,:60]\n",
    "#val_y = data.iloc[:208,60]\n",
    "from sklearn.model_selection import train_test_split\n",
    "\n",
    "X_train, X_test, y_train, y_test = train_test_split(X, y, test_size=0.2, random_state=1)\n",
    "\n",
    "X_train, X_val, y_train, y_val = train_test_split(X_train, y_train, test_size=0.25, random_state=1)"
   ]
  },
  {
   "cell_type": "code",
   "execution_count": 3,
   "metadata": {},
   "outputs": [],
   "source": [
    "le = LabelEncoder()\n",
    "encoded_Y = le.fit_transform(y_train)\n",
    "encoded_y_train = tf.keras.utils.to_categorical(encoded_Y)\n",
    "encoded_Y = le.fit_transform(y_test)\n",
    "encoded_y_test = tf.keras.utils.to_categorical(encoded_Y)\n",
    "encoded_Y = le.fit_transform(val_y)\n",
    "encoded_y_val = tf.keras.utils.to_categorical(encoded_Y)\n"
   ]
  },
  {
   "cell_type": "code",
   "execution_count": 4,
   "metadata": {},
   "outputs": [
    {
     "data": {
      "text/plain": [
       "array([1, 1, 1, 1, 1, 1, 1, 1, 1, 1, 1, 1, 1, 1, 1, 1, 1, 1, 1, 1, 1, 1,\n",
       "       1, 1, 1, 1, 1, 1, 1, 1, 1, 1, 1, 1, 1, 1, 1, 1, 1, 1, 1, 1, 1, 1,\n",
       "       1, 1, 1, 1, 1, 1, 1, 1, 1, 1, 1, 1, 1, 1, 1, 1, 1, 1, 1, 1, 1, 1,\n",
       "       1, 1, 1, 1, 1, 1, 1, 1, 1, 1, 1, 1, 1, 1, 1, 1, 1, 1, 1, 1, 1, 1,\n",
       "       1, 1, 1, 1, 1, 1, 1, 1, 1, 0, 0, 0, 0, 0, 0, 0, 0, 0, 0, 0, 0, 0,\n",
       "       0, 0, 0, 0, 0, 0, 0, 0, 0, 0, 0, 0, 0, 0, 0, 0, 0, 0, 0, 0, 0, 0,\n",
       "       0, 0, 0, 0, 0, 0, 0, 0, 0, 0, 0, 0, 0, 0, 0, 0, 0, 0, 0, 0, 0, 0,\n",
       "       0, 0, 0, 0, 0, 0, 0, 0, 0, 0, 0, 0, 0, 0, 0, 0, 0, 0, 0, 0, 0, 0,\n",
       "       0, 0, 0, 0, 0, 0, 0, 0, 0, 0, 0, 0, 0, 0, 0, 0, 0, 0, 0, 0, 0, 0,\n",
       "       0, 0, 0, 0, 0, 0, 0, 0, 0, 0])"
      ]
     },
     "execution_count": 4,
     "metadata": {},
     "output_type": "execute_result"
    }
   ],
   "source": [
    "encoded_Y"
   ]
  },
  {
   "cell_type": "code",
   "execution_count": null,
   "metadata": {},
   "outputs": [],
   "source": []
  },
  {
   "cell_type": "code",
   "execution_count": 5,
   "metadata": {},
   "outputs": [],
   "source": [
    "model = tf.keras.models.Sequential([\n",
    "  tf.keras.layers.Dense(4, activation = \"relu\", input_shape = (60,)),\n",
    "  tf.keras.layers.Dense(6, activation='relu'),\n",
    "  tf.keras.layers.Dense(2, activation='softmax')\n",
    "])"
   ]
  },
  {
   "cell_type": "code",
   "execution_count": 6,
   "metadata": {},
   "outputs": [],
   "source": [
    "model.compile(optimizer=\"rmsprop\",\n",
    "              loss=\"binary_crossentropy\",\n",
    "              metrics=[\"accuracy\"])"
   ]
  },
  {
   "cell_type": "code",
   "execution_count": 7,
   "metadata": {},
   "outputs": [
    {
     "name": "stdout",
     "output_type": "stream",
     "text": [
      "WARNING:tensorflow:Falling back from v2 loop because of error: Failed to find data adapter that can handle input: <class 'pandas.core.frame.DataFrame'>, <class 'NoneType'>\n",
      "Train on 144 samples\n",
      "Epoch 1/100\n",
      "144/144 [==============================] - 0s 2ms/sample - loss: 0.6907 - accuracy: 0.6528\n",
      "Epoch 2/100\n",
      "144/144 [==============================] - 0s 90us/sample - loss: 0.6865 - accuracy: 0.6806\n",
      "Epoch 3/100\n",
      "144/144 [==============================] - 0s 118us/sample - loss: 0.6827 - accuracy: 0.6806\n",
      "Epoch 4/100\n",
      "144/144 [==============================] - 0s 152us/sample - loss: 0.6786 - accuracy: 0.6736\n",
      "Epoch 5/100\n",
      "144/144 [==============================] - 0s 145us/sample - loss: 0.6718 - accuracy: 0.6736\n",
      "Epoch 6/100\n",
      "144/144 [==============================] - 0s 111us/sample - loss: 0.6648 - accuracy: 0.6736\n",
      "Epoch 7/100\n",
      "144/144 [==============================] - 0s 138us/sample - loss: 0.6578 - accuracy: 0.6736\n",
      "Epoch 8/100\n",
      "144/144 [==============================] - 0s 145us/sample - loss: 0.6501 - accuracy: 0.6736\n",
      "Epoch 9/100\n",
      "144/144 [==============================] - 0s 104us/sample - loss: 0.6444 - accuracy: 0.6736\n",
      "Epoch 10/100\n",
      "144/144 [==============================] - 0s 111us/sample - loss: 0.6400 - accuracy: 0.6736\n",
      "Epoch 11/100\n",
      "144/144 [==============================] - 0s 118us/sample - loss: 0.6362 - accuracy: 0.6736\n",
      "Epoch 12/100\n",
      "144/144 [==============================] - 0s 152us/sample - loss: 0.6326 - accuracy: 0.6736\n",
      "Epoch 13/100\n",
      "144/144 [==============================] - 0s 159us/sample - loss: 0.6287 - accuracy: 0.6736\n",
      "Epoch 14/100\n",
      "144/144 [==============================] - 0s 132us/sample - loss: 0.6261 - accuracy: 0.6736\n",
      "Epoch 15/100\n",
      "144/144 [==============================] - 0s 125us/sample - loss: 0.6227 - accuracy: 0.6736\n",
      "Epoch 16/100\n",
      "144/144 [==============================] - 0s 139us/sample - loss: 0.6197 - accuracy: 0.6736\n",
      "Epoch 17/100\n",
      "144/144 [==============================] - 0s 131us/sample - loss: 0.6169 - accuracy: 0.6736\n",
      "Epoch 18/100\n",
      "144/144 [==============================] - 0s 125us/sample - loss: 0.6135 - accuracy: 0.6736\n",
      "Epoch 19/100\n",
      "144/144 [==============================] - 0s 125us/sample - loss: 0.6121 - accuracy: 0.6736\n",
      "Epoch 20/100\n",
      "144/144 [==============================] - 0s 125us/sample - loss: 0.6085 - accuracy: 0.6736\n",
      "Epoch 21/100\n",
      "144/144 [==============================] - 0s 104us/sample - loss: 0.6053 - accuracy: 0.6736\n",
      "Epoch 22/100\n",
      "144/144 [==============================] - 0s 131us/sample - loss: 0.6031 - accuracy: 0.6736\n",
      "Epoch 23/100\n",
      "144/144 [==============================] - 0s 145us/sample - loss: 0.5997 - accuracy: 0.6736\n",
      "Epoch 24/100\n",
      "144/144 [==============================] - 0s 139us/sample - loss: 0.5964 - accuracy: 0.6736\n",
      "Epoch 25/100\n",
      "144/144 [==============================] - 0s 138us/sample - loss: 0.5945 - accuracy: 0.6736\n",
      "Epoch 26/100\n",
      "144/144 [==============================] - 0s 125us/sample - loss: 0.5909 - accuracy: 0.6667\n",
      "Epoch 27/100\n",
      "144/144 [==============================] - 0s 118us/sample - loss: 0.5872 - accuracy: 0.6736\n",
      "Epoch 28/100\n",
      "144/144 [==============================] - 0s 111us/sample - loss: 0.5858 - accuracy: 0.6736\n",
      "Epoch 29/100\n",
      "144/144 [==============================] - 0s 118us/sample - loss: 0.5816 - accuracy: 0.6736\n",
      "Epoch 30/100\n",
      "144/144 [==============================] - 0s 139us/sample - loss: 0.5794 - accuracy: 0.6667\n",
      "Epoch 31/100\n",
      "144/144 [==============================] - 0s 125us/sample - loss: 0.5763 - accuracy: 0.6667\n",
      "Epoch 32/100\n",
      "144/144 [==============================] - 0s 139us/sample - loss: 0.5736 - accuracy: 0.6875\n",
      "Epoch 33/100\n",
      "144/144 [==============================] - 0s 138us/sample - loss: 0.5704 - accuracy: 0.6875\n",
      "Epoch 34/100\n",
      "144/144 [==============================] - 0s 145us/sample - loss: 0.5671 - accuracy: 0.6944\n",
      "Epoch 35/100\n",
      "144/144 [==============================] - 0s 166us/sample - loss: 0.5646 - accuracy: 0.7014\n",
      "Epoch 36/100\n",
      "144/144 [==============================] - 0s 152us/sample - loss: 0.5608 - accuracy: 0.7014\n",
      "Epoch 37/100\n",
      "144/144 [==============================] - 0s 132us/sample - loss: 0.5572 - accuracy: 0.6944\n",
      "Epoch 38/100\n",
      "144/144 [==============================] - 0s 125us/sample - loss: 0.5535 - accuracy: 0.6944\n",
      "Epoch 39/100\n",
      "144/144 [==============================] - 0s 132us/sample - loss: 0.5499 - accuracy: 0.6944\n",
      "Epoch 40/100\n",
      "144/144 [==============================] - 0s 132us/sample - loss: 0.5463 - accuracy: 0.7014\n",
      "Epoch 41/100\n",
      "144/144 [==============================] - 0s 125us/sample - loss: 0.5428 - accuracy: 0.6944\n",
      "Epoch 42/100\n",
      "144/144 [==============================] - 0s 118us/sample - loss: 0.5383 - accuracy: 0.7014\n",
      "Epoch 43/100\n",
      "144/144 [==============================] - 0s 111us/sample - loss: 0.5341 - accuracy: 0.7083\n",
      "Epoch 44/100\n",
      "144/144 [==============================] - 0s 111us/sample - loss: 0.5306 - accuracy: 0.7083\n",
      "Epoch 45/100\n",
      "144/144 [==============================] - 0s 104us/sample - loss: 0.5264 - accuracy: 0.7083\n",
      "Epoch 46/100\n",
      "144/144 [==============================] - 0s 104us/sample - loss: 0.5225 - accuracy: 0.7431\n",
      "Epoch 47/100\n",
      "144/144 [==============================] - 0s 104us/sample - loss: 0.5194 - accuracy: 0.7361\n",
      "Epoch 48/100\n",
      "144/144 [==============================] - 0s 83us/sample - loss: 0.5159 - accuracy: 0.7639\n",
      "Epoch 49/100\n",
      "144/144 [==============================] - 0s 139us/sample - loss: 0.5133 - accuracy: 0.7500\n",
      "Epoch 50/100\n",
      "144/144 [==============================] - 0s 145us/sample - loss: 0.5106 - accuracy: 0.7500\n",
      "Epoch 51/100\n",
      "144/144 [==============================] - 0s 139us/sample - loss: 0.5072 - accuracy: 0.7431\n",
      "Epoch 52/100\n",
      "144/144 [==============================] - 0s 132us/sample - loss: 0.5045 - accuracy: 0.7569\n",
      "Epoch 53/100\n",
      "144/144 [==============================] - 0s 159us/sample - loss: 0.4998 - accuracy: 0.7569\n",
      "Epoch 54/100\n",
      "144/144 [==============================] - 0s 145us/sample - loss: 0.4968 - accuracy: 0.7569\n",
      "Epoch 55/100\n",
      "144/144 [==============================] - 0s 118us/sample - loss: 0.4951 - accuracy: 0.7778\n",
      "Epoch 56/100\n",
      "144/144 [==============================] - 0s 125us/sample - loss: 0.4904 - accuracy: 0.7708\n",
      "Epoch 57/100\n",
      "144/144 [==============================] - 0s 132us/sample - loss: 0.4866 - accuracy: 0.7639\n",
      "Epoch 58/100\n",
      "144/144 [==============================] - 0s 125us/sample - loss: 0.4835 - accuracy: 0.7778\n",
      "Epoch 59/100\n",
      "144/144 [==============================] - 0s 125us/sample - loss: 0.4804 - accuracy: 0.7708\n",
      "Epoch 60/100\n",
      "144/144 [==============================] - 0s 118us/sample - loss: 0.4768 - accuracy: 0.7847\n",
      "Epoch 61/100\n",
      "144/144 [==============================] - 0s 132us/sample - loss: 0.4742 - accuracy: 0.7708\n",
      "Epoch 62/100\n",
      "144/144 [==============================] - 0s 111us/sample - loss: 0.4707 - accuracy: 0.7778\n",
      "Epoch 63/100\n",
      "144/144 [==============================] - 0s 118us/sample - loss: 0.4671 - accuracy: 0.7847\n",
      "Epoch 64/100\n",
      "144/144 [==============================] - 0s 118us/sample - loss: 0.4647 - accuracy: 0.7778\n",
      "Epoch 65/100\n",
      "144/144 [==============================] - 0s 118us/sample - loss: 0.4605 - accuracy: 0.7639\n",
      "Epoch 66/100\n",
      "144/144 [==============================] - 0s 118us/sample - loss: 0.4589 - accuracy: 0.7778\n",
      "Epoch 67/100\n",
      "144/144 [==============================] - 0s 111us/sample - loss: 0.4544 - accuracy: 0.7778\n",
      "Epoch 68/100\n",
      "144/144 [==============================] - 0s 145us/sample - loss: 0.4522 - accuracy: 0.7986\n",
      "Epoch 69/100\n",
      "144/144 [==============================] - 0s 104us/sample - loss: 0.4495 - accuracy: 0.7917\n",
      "Epoch 70/100\n",
      "144/144 [==============================] - 0s 90us/sample - loss: 0.4460 - accuracy: 0.7986\n",
      "Epoch 71/100\n",
      "144/144 [==============================] - 0s 104us/sample - loss: 0.4420 - accuracy: 0.7986\n",
      "Epoch 72/100\n",
      "144/144 [==============================] - 0s 111us/sample - loss: 0.4432 - accuracy: 0.7847\n",
      "Epoch 73/100\n",
      "144/144 [==============================] - 0s 118us/sample - loss: 0.4378 - accuracy: 0.7986\n",
      "Epoch 74/100\n",
      "144/144 [==============================] - 0s 118us/sample - loss: 0.4338 - accuracy: 0.8056\n",
      "Epoch 75/100\n",
      "144/144 [==============================] - 0s 97us/sample - loss: 0.4321 - accuracy: 0.7986\n",
      "Epoch 76/100\n",
      "144/144 [==============================] - 0s 104us/sample - loss: 0.4285 - accuracy: 0.8056\n",
      "Epoch 77/100\n",
      "144/144 [==============================] - 0s 90us/sample - loss: 0.4275 - accuracy: 0.7986\n",
      "Epoch 78/100\n",
      "144/144 [==============================] - 0s 111us/sample - loss: 0.4242 - accuracy: 0.8194\n",
      "Epoch 79/100\n",
      "144/144 [==============================] - 0s 111us/sample - loss: 0.4208 - accuracy: 0.8194\n",
      "Epoch 80/100\n",
      "144/144 [==============================] - 0s 111us/sample - loss: 0.4186 - accuracy: 0.8125\n",
      "Epoch 81/100\n",
      "144/144 [==============================] - 0s 118us/sample - loss: 0.4185 - accuracy: 0.8125\n",
      "Epoch 82/100\n",
      "144/144 [==============================] - 0s 118us/sample - loss: 0.4121 - accuracy: 0.8333\n",
      "Epoch 83/100\n",
      "144/144 [==============================] - 0s 118us/sample - loss: 0.4138 - accuracy: 0.8264\n",
      "Epoch 84/100\n",
      "144/144 [==============================] - 0s 118us/sample - loss: 0.4091 - accuracy: 0.8333\n",
      "Epoch 85/100\n",
      "144/144 [==============================] - 0s 139us/sample - loss: 0.4069 - accuracy: 0.8333\n",
      "Epoch 86/100\n",
      "144/144 [==============================] - 0s 118us/sample - loss: 0.4045 - accuracy: 0.8403\n",
      "Epoch 87/100\n",
      "144/144 [==============================] - 0s 111us/sample - loss: 0.4043 - accuracy: 0.8333\n",
      "Epoch 88/100\n",
      "144/144 [==============================] - 0s 125us/sample - loss: 0.3999 - accuracy: 0.8403\n",
      "Epoch 89/100\n",
      "144/144 [==============================] - 0s 118us/sample - loss: 0.4007 - accuracy: 0.8194\n",
      "Epoch 90/100\n",
      "144/144 [==============================] - 0s 118us/sample - loss: 0.3975 - accuracy: 0.8403\n",
      "Epoch 91/100\n",
      "144/144 [==============================] - 0s 132us/sample - loss: 0.3986 - accuracy: 0.8403\n",
      "Epoch 92/100\n",
      "144/144 [==============================] - 0s 118us/sample - loss: 0.3946 - accuracy: 0.8264\n",
      "Epoch 93/100\n",
      "144/144 [==============================] - 0s 118us/sample - loss: 0.3917 - accuracy: 0.8403\n",
      "Epoch 94/100\n",
      "144/144 [==============================] - 0s 118us/sample - loss: 0.3916 - accuracy: 0.8472\n",
      "Epoch 95/100\n",
      "144/144 [==============================] - 0s 125us/sample - loss: 0.3912 - accuracy: 0.8333\n",
      "Epoch 96/100\n",
      "144/144 [==============================] - 0s 111us/sample - loss: 0.3892 - accuracy: 0.8472\n",
      "Epoch 97/100\n",
      "144/144 [==============================] - 0s 111us/sample - loss: 0.3873 - accuracy: 0.8542\n",
      "Epoch 98/100\n",
      "144/144 [==============================] - 0s 118us/sample - loss: 0.3878 - accuracy: 0.8333\n",
      "Epoch 99/100\n",
      "144/144 [==============================] - 0s 118us/sample - loss: 0.3867 - accuracy: 0.8472\n",
      "Epoch 100/100\n",
      "144/144 [==============================] - ETA: 0s - loss: 0.3246 - accuracy: 0.87 - 0s 118us/sample - loss: 0.3824 - accuracy: 0.8264\n"
     ]
    }
   ],
   "source": [
    "history = model.fit(x_train , encoded_y_train , epochs=100)"
   ]
  },
  {
   "cell_type": "code",
   "execution_count": 8,
   "metadata": {},
   "outputs": [
    {
     "name": "stdout",
     "output_type": "stream",
     "text": [
      "WARNING:tensorflow:Falling back from v2 loop because of error: Failed to find data adapter that can handle input: <class 'pandas.core.frame.DataFrame'>, <class 'NoneType'>\n",
      "200/200 - 0s - loss: 0.6563 - accuracy: 0.7150\n"
     ]
    },
    {
     "data": {
      "text/plain": [
       "[0.6562739753723145, 0.715]"
      ]
     },
     "execution_count": 8,
     "metadata": {},
     "output_type": "execute_result"
    }
   ],
   "source": [
    "results = model.evaluate(x_test, encoded_y_test,verbose=2)\n",
    "results"
   ]
  },
  {
   "cell_type": "code",
   "execution_count": 9,
   "metadata": {},
   "outputs": [
    {
     "name": "stdout",
     "output_type": "stream",
     "text": [
      "WARNING:tensorflow:Falling back from v2 loop because of error: Failed to find data adapter that can handle input: <class 'pandas.core.frame.DataFrame'>, <class 'NoneType'>\n",
      "Train on 208 samples\n",
      "208/208 [==============================] - 0s 456us/sample - loss: 0.6138 - accuracy: 0.7019\n"
     ]
    },
    {
     "data": {
      "text/plain": [
       "<tensorflow.python.keras.callbacks.History at 0x28a79353688>"
      ]
     },
     "execution_count": 9,
     "metadata": {},
     "output_type": "execute_result"
    }
   ],
   "source": [
    "model.compile(optimizer = \"rmsprop\",\n",
    "             loss = \"binary_crossentropy\",\n",
    "             metrics = [\"accuracy\"])\n",
    "\n",
    "\n",
    "model.fit(val_x, encoded_y_val, verbose = 1)"
   ]
  },
  {
   "cell_type": "code",
   "execution_count": 10,
   "metadata": {},
   "outputs": [
    {
     "data": {
      "text/plain": [
       "dict_keys(['loss', 'accuracy'])"
      ]
     },
     "execution_count": 10,
     "metadata": {},
     "output_type": "execute_result"
    }
   ],
   "source": [
    "history_dict = history.history\n",
    "history_dict.keys()\n",
    "\n"
   ]
  },
  {
   "cell_type": "code",
   "execution_count": 12,
   "metadata": {},
   "outputs": [
    {
     "data": {
      "image/png": "[encoded data removed]",
      "text/plain": [
       "<Figure size 432x288 with 1 Axes>"
      ]
     },
     "metadata": {
      "needs_background": "light"
     },
     "output_type": "display_data"
    }
   ],
   "source": [
    "import matplotlib.pyplot as plt\n",
    "plt.plot(history.history['accuracy'])\n",
    "plt.plot(history.history[\"loss\"])\n",
    "plt.title('Training accuracy and loss')\n",
    "plt.ylabel('accuracy')\n",
    "plt.xlabel('epoch')\n",
    "plt.legend(['train', 'loss'], loc='upper left')\n",
    "plt.show()"
   ]
  },
  {
   "cell_type": "code",
   "execution_count": null,
   "metadata": {},
   "outputs": [],
   "source": []
  },
  {
   "cell_type": "code",
   "execution_count": null,
   "metadata": {},
   "outputs": [],
   "source": []
  },
  {
   "cell_type": "code",
   "execution_count": null,
   "metadata": {},
   "outputs": [],
   "source": []
  }
 ],
 "metadata": {
  "kernelspec": {
   "display_name": "Python 3",
   "language": "python",
   "name": "python3"
  },
  "language_info": {
   "codemirror_mode": {
    "name": "ipython",
    "version": 3
   },
   "file_extension": ".py",
   "mimetype": "text/x-python",
   "name": "python",
   "nbconvert_exporter": "python",
   "pygments_lexer": "ipython3",
   "version": "3.7.4"
  }
 },
 "nbformat": 4,
 "nbformat_minor": 2
}
