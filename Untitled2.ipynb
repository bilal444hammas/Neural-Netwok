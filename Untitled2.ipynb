{
 "cells": [
  {
   "cell_type": "code",
   "execution_count": 1,
   "metadata": {},
   "outputs": [
    {
     "name": "stderr",
     "output_type": "stream",
     "text": [
      "Using TensorFlow backend.\n",
      "C:\\Users\\usaid\\anaconda3\\lib\\site-packages\\tensorflow\\python\\framework\\dtypes.py:526: FutureWarning: Passing (type, 1) or '1type' as a synonym of type is deprecated; in a future version of numpy, it will be understood as (type, (1,)) / '(1,)type'.\n",
      "  _np_qint8 = np.dtype([(\"qint8\", np.int8, 1)])\n",
      "C:\\Users\\usaid\\anaconda3\\lib\\site-packages\\tensorflow\\python\\framework\\dtypes.py:527: FutureWarning: Passing (type, 1) or '1type' as a synonym of type is deprecated; in a future version of numpy, it will be understood as (type, (1,)) / '(1,)type'.\n",
      "  _np_quint8 = np.dtype([(\"quint8\", np.uint8, 1)])\n",
      "C:\\Users\\usaid\\anaconda3\\lib\\site-packages\\tensorflow\\python\\framework\\dtypes.py:528: FutureWarning: Passing (type, 1) or '1type' as a synonym of type is deprecated; in a future version of numpy, it will be understood as (type, (1,)) / '(1,)type'.\n",
      "  _np_qint16 = np.dtype([(\"qint16\", np.int16, 1)])\n",
      "C:\\Users\\usaid\\anaconda3\\lib\\site-packages\\tensorflow\\python\\framework\\dtypes.py:529: FutureWarning: Passing (type, 1) or '1type' as a synonym of type is deprecated; in a future version of numpy, it will be understood as (type, (1,)) / '(1,)type'.\n",
      "  _np_quint16 = np.dtype([(\"quint16\", np.uint16, 1)])\n",
      "C:\\Users\\usaid\\anaconda3\\lib\\site-packages\\tensorflow\\python\\framework\\dtypes.py:530: FutureWarning: Passing (type, 1) or '1type' as a synonym of type is deprecated; in a future version of numpy, it will be understood as (type, (1,)) / '(1,)type'.\n",
      "  _np_qint32 = np.dtype([(\"qint32\", np.int32, 1)])\n",
      "C:\\Users\\usaid\\anaconda3\\lib\\site-packages\\tensorflow\\python\\framework\\dtypes.py:535: FutureWarning: Passing (type, 1) or '1type' as a synonym of type is deprecated; in a future version of numpy, it will be understood as (type, (1,)) / '(1,)type'.\n",
      "  np_resource = np.dtype([(\"resource\", np.ubyte, 1)])\n"
     ]
    }
   ],
   "source": [
    "from keras.applications import VGG16"
   ]
  },
  {
   "cell_type": "code",
   "execution_count": 2,
   "metadata": {},
   "outputs": [
    {
     "name": "stdout",
     "output_type": "stream",
     "text": [
      "WARNING:tensorflow:From C:\\Users\\usaid\\anaconda3\\lib\\site-packages\\tensorflow\\python\\ops\\resource_variable_ops.py:435: colocate_with (from tensorflow.python.framework.ops) is deprecated and will be removed in a future version.\n",
      "Instructions for updating:\n",
      "Colocations handled automatically by placer.\n"
     ]
    }
   ],
   "source": [
    "conv_base = VGG16(weights = \"imagenet\",\n",
    "                 include_top = False,\n",
    "                 input_shape = (150, 150, 3))"
   ]
  },
  {
   "cell_type": "code",
   "execution_count": 3,
   "metadata": {},
   "outputs": [
    {
     "name": "stdout",
     "output_type": "stream",
     "text": [
      "Model: \"vgg16\"\n",
      "_________________________________________________________________\n",
      "Layer (type)                 Output Shape              Param #   \n",
      "=================================================================\n",
      "input_1 (InputLayer)         (None, 150, 150, 3)       0         \n",
      "_________________________________________________________________\n",
      "block1_conv1 (Conv2D)        (None, 150, 150, 64)      1792      \n",
      "_________________________________________________________________\n",
      "block1_conv2 (Conv2D)        (None, 150, 150, 64)      36928     \n",
      "_________________________________________________________________\n",
      "block1_pool (MaxPooling2D)   (None, 75, 75, 64)        0         \n",
      "_________________________________________________________________\n",
      "block2_conv1 (Conv2D)        (None, 75, 75, 128)       73856     \n",
      "_________________________________________________________________\n",
      "block2_conv2 (Conv2D)        (None, 75, 75, 128)       147584    \n",
      "_________________________________________________________________\n",
      "block2_pool (MaxPooling2D)   (None, 37, 37, 128)       0         \n",
      "_________________________________________________________________\n",
      "block3_conv1 (Conv2D)        (None, 37, 37, 256)       295168    \n",
      "_________________________________________________________________\n",
      "block3_conv2 (Conv2D)        (None, 37, 37, 256)       590080    \n",
      "_________________________________________________________________\n",
      "block3_conv3 (Conv2D)        (None, 37, 37, 256)       590080    \n",
      "_________________________________________________________________\n",
      "block3_pool (MaxPooling2D)   (None, 18, 18, 256)       0         \n",
      "_________________________________________________________________\n",
      "block4_conv1 (Conv2D)        (None, 18, 18, 512)       1180160   \n",
      "_________________________________________________________________\n",
      "block4_conv2 (Conv2D)        (None, 18, 18, 512)       2359808   \n",
      "_________________________________________________________________\n",
      "block4_conv3 (Conv2D)        (None, 18, 18, 512)       2359808   \n",
      "_________________________________________________________________\n",
      "block4_pool (MaxPooling2D)   (None, 9, 9, 512)         0         \n",
      "_________________________________________________________________\n",
      "block5_conv1 (Conv2D)        (None, 9, 9, 512)         2359808   \n",
      "_________________________________________________________________\n",
      "block5_conv2 (Conv2D)        (None, 9, 9, 512)         2359808   \n",
      "_________________________________________________________________\n",
      "block5_conv3 (Conv2D)        (None, 9, 9, 512)         2359808   \n",
      "_________________________________________________________________\n",
      "block5_pool (MaxPooling2D)   (None, 4, 4, 512)         0         \n",
      "=================================================================\n",
      "Total params: 14,714,688\n",
      "Trainable params: 14,714,688\n",
      "Non-trainable params: 0\n",
      "_________________________________________________________________\n"
     ]
    }
   ],
   "source": [
    "conv_base.summary()"
   ]
  },
  {
   "cell_type": "code",
   "execution_count": 4,
   "metadata": {},
   "outputs": [],
   "source": [
    "import os\n",
    "import numpy as np\n",
    "from keras.preprocessing.image import ImageDataGenerator"
   ]
  },
  {
   "cell_type": "code",
   "execution_count": 14,
   "metadata": {},
   "outputs": [],
   "source": [
    "base_dir = \"C:/Users/usaid/Downloads/dogs-vs-cats-small\"\n",
    "train_dir = os.path.join(base_dir, \"train\")\n",
    "validation_dir = os.path.join(base_dir, \"validation\")\n",
    "test_dir = os.path.join(base_dir, \"test\")"
   ]
  },
  {
   "cell_type": "code",
   "execution_count": 15,
   "metadata": {},
   "outputs": [],
   "source": [
    "datagen = ImageDataGenerator(rescale = 1./255)\n",
    "batch_size = 20"
   ]
  },
  {
   "cell_type": "code",
   "execution_count": 17,
   "metadata": {},
   "outputs": [],
   "source": [
    "def extract_features(directory, sample_count):\n",
    "    features = np.zeros(shape = (sample_count, 4, 4, 512))\n",
    "    labels =  np.zeros(shape = (sample_count))\n",
    "    generator = datagen.flow_from_directory(\n",
    "        directory,\n",
    "        target_size=(150, 150),\n",
    "        batch_size = batch_size,\n",
    "        class_mode = \"binary\")\n",
    "    i = 0\n",
    "    for inputs_batch, labels_batch in generator:\n",
    "        features_batch = conv_base.predict(inputs_batch)\n",
    "        features[i * batch_size : (i + 1) * batch_size] = features_batch\n",
    "        labels[i * batch_size : (i + 1) * batch_size] = labels_batch\n",
    "        i += 1\n",
    "        if i * batch_size >= sample_count:\n",
    "            break\n",
    "    return features, labels"
   ]
  },
  {
   "cell_type": "code",
   "execution_count": 18,
   "metadata": {},
   "outputs": [
    {
     "name": "stdout",
     "output_type": "stream",
     "text": [
      "Found 2000 images belonging to 2 classes.\n",
      "Found 1000 images belonging to 2 classes.\n",
      "Found 1000 images belonging to 2 classes.\n"
     ]
    }
   ],
   "source": [
    "train_features, train_labels = extract_features(train_dir, 2000)\n",
    "validation_features, validation_labels = extract_features(validation_dir, 1000)\n",
    "test_features, test_labels = extract_features(test_dir, 1000)"
   ]
  },
  {
   "cell_type": "code",
   "execution_count": 19,
   "metadata": {},
   "outputs": [],
   "source": [
    "train_features = np.reshape(train_features, (2000, 4 * 4 * 512))\n",
    "validation_features = np.reshape(validation_features, (1000, 4 * 4 * 512))\n",
    "test_features = np.reshape(test_features, (1000, 4 * 4 * 512))"
   ]
  },
  {
   "cell_type": "code",
   "execution_count": 25,
   "metadata": {},
   "outputs": [],
   "source": [
    "from keras import models\n",
    "from keras import layers\n",
    "from keras import optimizers\n",
    "\n",
    "model = models.Sequential()\n",
    "model.add(layers.Dense(256, activation = \"relu\", input_dim = 4 * 4 * 512))\n",
    "model.add(layers.Dropout(0.5))\n",
    "model.add(layers.Dense(1, activation = \"sigmoid\"))\n",
    "\n",
    "model.compile(optimizer = optimizers.RMSprop(lr=2e-5),\n",
    "              loss = \"binary_crossentropy\",\n",
    "              metrics = [\"acc\"])"
   ]
  },
  {
   "cell_type": "code",
   "execution_count": 26,
   "metadata": {},
   "outputs": [
    {
     "name": "stdout",
     "output_type": "stream",
     "text": [
      "WARNING:tensorflow:From C:\\Users\\usaid\\anaconda3\\lib\\site-packages\\tensorflow\\python\\ops\\math_ops.py:3066: to_int32 (from tensorflow.python.ops.math_ops) is deprecated and will be removed in a future version.\n",
      "Instructions for updating:\n",
      "Use tf.cast instead.\n",
      "Train on 2000 samples, validate on 1000 samples\n",
      "Epoch 1/30\n",
      "2000/2000 [==============================] - 3s 1ms/step - loss: 0.6129 - acc: 0.6610 - val_loss: 0.4443 - val_acc: 0.8310\n",
      "Epoch 2/30\n",
      "2000/2000 [==============================] - 3s 1ms/step - loss: 0.4333 - acc: 0.8015 - val_loss: 0.3595 - val_acc: 0.8660\n",
      "Epoch 3/30\n",
      "2000/2000 [==============================] - 3s 1ms/step - loss: 0.3543 - acc: 0.8555 - val_loss: 0.3186 - val_acc: 0.8800\n",
      "Epoch 4/30\n",
      "2000/2000 [==============================] - 3s 2ms/step - loss: 0.3159 - acc: 0.8720 - val_loss: 0.2947 - val_acc: 0.8860\n",
      "Epoch 5/30\n",
      "2000/2000 [==============================] - 3s 1ms/step - loss: 0.2845 - acc: 0.8845 - val_loss: 0.2788 - val_acc: 0.8880\n",
      "Epoch 6/30\n",
      "2000/2000 [==============================] - 3s 1ms/step - loss: 0.2695 - acc: 0.8925 - val_loss: 0.2797 - val_acc: 0.8860\n",
      "Epoch 7/30\n",
      "2000/2000 [==============================] - 3s 1ms/step - loss: 0.2515 - acc: 0.9050 - val_loss: 0.2639 - val_acc: 0.8990\n",
      "Epoch 8/30\n",
      "2000/2000 [==============================] - 3s 1ms/step - loss: 0.2315 - acc: 0.9120 - val_loss: 0.2552 - val_acc: 0.9020\n",
      "Epoch 9/30\n",
      "2000/2000 [==============================] - 3s 2ms/step - loss: 0.2121 - acc: 0.9245 - val_loss: 0.2522 - val_acc: 0.8990\n",
      "Epoch 10/30\n",
      "2000/2000 [==============================] - 3s 1ms/step - loss: 0.2067 - acc: 0.9255 - val_loss: 0.2458 - val_acc: 0.9040\n",
      "Epoch 11/30\n",
      "2000/2000 [==============================] - 3s 1ms/step - loss: 0.1934 - acc: 0.9310 - val_loss: 0.2484 - val_acc: 0.9010\n",
      "Epoch 12/30\n",
      "2000/2000 [==============================] - 3s 1ms/step - loss: 0.1858 - acc: 0.9340 - val_loss: 0.2534 - val_acc: 0.8960\n",
      "Epoch 13/30\n",
      "2000/2000 [==============================] - 3s 1ms/step - loss: 0.1863 - acc: 0.9275 - val_loss: 0.2371 - val_acc: 0.9040\n",
      "Epoch 14/30\n",
      "2000/2000 [==============================] - 3s 1ms/step - loss: 0.1663 - acc: 0.9415 - val_loss: 0.2361 - val_acc: 0.9030\n",
      "Epoch 15/30\n",
      "2000/2000 [==============================] - 3s 1ms/step - loss: 0.1654 - acc: 0.9425 - val_loss: 0.2346 - val_acc: 0.9040\n",
      "Epoch 16/30\n",
      "2000/2000 [==============================] - 3s 1ms/step - loss: 0.1568 - acc: 0.9460 - val_loss: 0.2434 - val_acc: 0.9010\n",
      "Epoch 17/30\n",
      "2000/2000 [==============================] - 3s 1ms/step - loss: 0.1532 - acc: 0.9495 - val_loss: 0.2321 - val_acc: 0.9060\n",
      "Epoch 18/30\n",
      "2000/2000 [==============================] - 3s 1ms/step - loss: 0.1419 - acc: 0.9505 - val_loss: 0.2317 - val_acc: 0.9050\n",
      "Epoch 19/30\n",
      "2000/2000 [==============================] - 3s 2ms/step - loss: 0.1346 - acc: 0.9495 - val_loss: 0.2309 - val_acc: 0.9070\n",
      "Epoch 20/30\n",
      "2000/2000 [==============================] - 3s 1ms/step - loss: 0.1320 - acc: 0.9515 - val_loss: 0.2317 - val_acc: 0.9070\n",
      "Epoch 21/30\n",
      "2000/2000 [==============================] - 3s 2ms/step - loss: 0.1268 - acc: 0.9545 - val_loss: 0.2301 - val_acc: 0.9040\n",
      "Epoch 22/30\n",
      "2000/2000 [==============================] - 3s 1ms/step - loss: 0.1218 - acc: 0.9590 - val_loss: 0.2298 - val_acc: 0.9030\n",
      "Epoch 23/30\n",
      "2000/2000 [==============================] - 3s 2ms/step - loss: 0.1187 - acc: 0.9610 - val_loss: 0.2303 - val_acc: 0.9060\n",
      "Epoch 24/30\n",
      "2000/2000 [==============================] - 3s 1ms/step - loss: 0.1158 - acc: 0.9585 - val_loss: 0.2296 - val_acc: 0.9030\n",
      "Epoch 25/30\n",
      "2000/2000 [==============================] - 3s 1ms/step - loss: 0.1131 - acc: 0.9635 - val_loss: 0.2305 - val_acc: 0.9040\n",
      "Epoch 26/30\n",
      "2000/2000 [==============================] - 4s 2ms/step - loss: 0.1050 - acc: 0.9670 - val_loss: 0.2327 - val_acc: 0.9050\n",
      "Epoch 27/30\n",
      "2000/2000 [==============================] - 3s 2ms/step - loss: 0.0990 - acc: 0.9700 - val_loss: 0.2583 - val_acc: 0.8910\n",
      "Epoch 28/30\n",
      "2000/2000 [==============================] - 3s 2ms/step - loss: 0.0931 - acc: 0.9725 - val_loss: 0.2344 - val_acc: 0.9030\n",
      "Epoch 29/30\n",
      "2000/2000 [==============================] - 3s 1ms/step - loss: 0.0956 - acc: 0.9685 - val_loss: 0.2331 - val_acc: 0.9040\n",
      "Epoch 30/30\n",
      "2000/2000 [==============================] - 3s 1ms/step - loss: 0.0901 - acc: 0.9740 - val_loss: 0.2336 - val_acc: 0.9050\n"
     ]
    }
   ],
   "source": [
    "history = model.fit(train_features, train_labels,\n",
    "                    epochs = 30,\n",
    "                    batch_size = 20,\n",
    "                    validation_data = (validation_features, validation_labels))"
   ]
  },
  {
   "cell_type": "code",
   "execution_count": 29,
   "metadata": {},
   "outputs": [
    {
     "data": {
      "image/png": "[encoded data removed]",
      "text/plain": [
       "<Figure size 432x288 with 1 Axes>"
      ]
     },
     "metadata": {
      "needs_background": "light"
     },
     "output_type": "display_data"
    },
    {
     "data": {
      "image/png": "[encoded data removed]",
      "text/plain": [
       "<Figure size 432x288 with 1 Axes>"
      ]
     },
     "metadata": {
      "needs_background": "light"
     },
     "output_type": "display_data"
    }
   ],
   "source": [
    "import matplotlib.pyplot as plt\n",
    "\n",
    "acc = history.history[\"acc\"]\n",
    "val_acc = history.history[\"val_acc\"]\n",
    "loss = history.history[\"loss\"]\n",
    "val_loss = history.history[\"val_loss\"]\n",
    "\n",
    "epochs = range(1, len(acc) + 1)\n",
    "\n",
    "plt.plot(epochs, acc, \"bo\", label = \"Training acc\")\n",
    "plt.plot(epochs, val_acc, \"b\", label = \"Validation loss\")\n",
    "plt.title(\"Training and Validation loss\")\n",
    "plt.legend()\n",
    "\n",
    "plt.figure()\n",
    "\n",
    "plt.plot(epochs, loss, \"bo\", label = \"Training loss\")\n",
    "plt.plot(epochs, val_acc, \"b\", label = \"Validation loss\")\n",
    "plt.title(\"Training and Validation loss\")\n",
    "plt.legend()\n",
    "\n",
    "plt.show()"
   ]
  },
  {
   "cell_type": "code",
   "execution_count": null,
   "metadata": {},
   "outputs": [],
   "source": []
  }
 ],
 "metadata": {
  "kernelspec": {
   "display_name": "Python 3",
   "language": "python",
   "name": "python3"
  },
  "language_info": {
   "codemirror_mode": {
    "name": "ipython",
    "version": 3
   },
   "file_extension": ".py",
   "mimetype": "text/x-python",
   "name": "python",
   "nbconvert_exporter": "python",
   "pygments_lexer": "ipython3",
   "version": "3.7.6"
  }
 },
 "nbformat": 4,
 "nbformat_minor": 4
}
