{
 "cells": [
  {
   "cell_type": "code",
   "execution_count": 1,
   "metadata": {},
   "outputs": [
    {
     "name": "stderr",
     "output_type": "stream",
     "text": [
      "Using TensorFlow backend.\n",
      "C:\\Users\\usaid\\anaconda3\\lib\\site-packages\\tensorflow\\python\\framework\\dtypes.py:516: FutureWarning: Passing (type, 1) or '1type' as a synonym of type is deprecated; in a future version of numpy, it will be understood as (type, (1,)) / '(1,)type'.\n",
      "  _np_qint8 = np.dtype([(\"qint8\", np.int8, 1)])\n",
      "C:\\Users\\usaid\\anaconda3\\lib\\site-packages\\tensorflow\\python\\framework\\dtypes.py:517: FutureWarning: Passing (type, 1) or '1type' as a synonym of type is deprecated; in a future version of numpy, it will be understood as (type, (1,)) / '(1,)type'.\n",
      "  _np_quint8 = np.dtype([(\"quint8\", np.uint8, 1)])\n",
      "C:\\Users\\usaid\\anaconda3\\lib\\site-packages\\tensorflow\\python\\framework\\dtypes.py:518: FutureWarning: Passing (type, 1) or '1type' as a synonym of type is deprecated; in a future version of numpy, it will be understood as (type, (1,)) / '(1,)type'.\n",
      "  _np_qint16 = np.dtype([(\"qint16\", np.int16, 1)])\n",
      "C:\\Users\\usaid\\anaconda3\\lib\\site-packages\\tensorflow\\python\\framework\\dtypes.py:519: FutureWarning: Passing (type, 1) or '1type' as a synonym of type is deprecated; in a future version of numpy, it will be understood as (type, (1,)) / '(1,)type'.\n",
      "  _np_quint16 = np.dtype([(\"quint16\", np.uint16, 1)])\n",
      "C:\\Users\\usaid\\anaconda3\\lib\\site-packages\\tensorflow\\python\\framework\\dtypes.py:520: FutureWarning: Passing (type, 1) or '1type' as a synonym of type is deprecated; in a future version of numpy, it will be understood as (type, (1,)) / '(1,)type'.\n",
      "  _np_qint32 = np.dtype([(\"qint32\", np.int32, 1)])\n",
      "C:\\Users\\usaid\\anaconda3\\lib\\site-packages\\tensorflow\\python\\framework\\dtypes.py:525: FutureWarning: Passing (type, 1) or '1type' as a synonym of type is deprecated; in a future version of numpy, it will be understood as (type, (1,)) / '(1,)type'.\n",
      "  np_resource = np.dtype([(\"resource\", np.ubyte, 1)])\n"
     ]
    },
    {
     "name": "stdout",
     "output_type": "stream",
     "text": [
      "WARNING:tensorflow:From C:\\Users\\usaid\\anaconda3\\lib\\site-packages\\keras\\backend\\tensorflow_backend.py:4070: The name tf.nn.max_pool is deprecated. Please use tf.nn.max_pool2d instead.\n",
      "\n"
     ]
    },
    {
     "name": "stderr",
     "output_type": "stream",
     "text": [
      "C:\\Users\\usaid\\anaconda3\\lib\\site-packages\\tensorboard\\compat\\tensorflow_stub\\dtypes.py:541: FutureWarning: Passing (type, 1) or '1type' as a synonym of type is deprecated; in a future version of numpy, it will be understood as (type, (1,)) / '(1,)type'.\n",
      "  _np_qint8 = np.dtype([(\"qint8\", np.int8, 1)])\n",
      "C:\\Users\\usaid\\anaconda3\\lib\\site-packages\\tensorboard\\compat\\tensorflow_stub\\dtypes.py:542: FutureWarning: Passing (type, 1) or '1type' as a synonym of type is deprecated; in a future version of numpy, it will be understood as (type, (1,)) / '(1,)type'.\n",
      "  _np_quint8 = np.dtype([(\"quint8\", np.uint8, 1)])\n",
      "C:\\Users\\usaid\\anaconda3\\lib\\site-packages\\tensorboard\\compat\\tensorflow_stub\\dtypes.py:543: FutureWarning: Passing (type, 1) or '1type' as a synonym of type is deprecated; in a future version of numpy, it will be understood as (type, (1,)) / '(1,)type'.\n",
      "  _np_qint16 = np.dtype([(\"qint16\", np.int16, 1)])\n",
      "C:\\Users\\usaid\\anaconda3\\lib\\site-packages\\tensorboard\\compat\\tensorflow_stub\\dtypes.py:544: FutureWarning: Passing (type, 1) or '1type' as a synonym of type is deprecated; in a future version of numpy, it will be understood as (type, (1,)) / '(1,)type'.\n",
      "  _np_quint16 = np.dtype([(\"quint16\", np.uint16, 1)])\n",
      "C:\\Users\\usaid\\anaconda3\\lib\\site-packages\\tensorboard\\compat\\tensorflow_stub\\dtypes.py:545: FutureWarning: Passing (type, 1) or '1type' as a synonym of type is deprecated; in a future version of numpy, it will be understood as (type, (1,)) / '(1,)type'.\n",
      "  _np_qint32 = np.dtype([(\"qint32\", np.int32, 1)])\n",
      "C:\\Users\\usaid\\anaconda3\\lib\\site-packages\\tensorboard\\compat\\tensorflow_stub\\dtypes.py:550: FutureWarning: Passing (type, 1) or '1type' as a synonym of type is deprecated; in a future version of numpy, it will be understood as (type, (1,)) / '(1,)type'.\n",
      "  np_resource = np.dtype([(\"resource\", np.ubyte, 1)])\n"
     ]
    }
   ],
   "source": [
    "from keras.applications import VGG16\n",
    "\n",
    "conv_base = VGG16(weights = \"imagenet\",\n",
    "                 include_top = False,\n",
    "                 input_shape=(150, 150, 3))"
   ]
  },
  {
   "cell_type": "code",
   "execution_count": 2,
   "metadata": {},
   "outputs": [],
   "source": [
    "from keras import models\n",
    "from keras import layers\n",
    "\n",
    "model = models.Sequential()\n",
    "model.add(conv_base)\n",
    "model.add(layers.Flatten())\n",
    "model.add(layers.Dense(256, activation = \"relu\"))\n",
    "model.add(layers.Dense(1, activation = \"sigmoid\"))"
   ]
  },
  {
   "cell_type": "code",
   "execution_count": 3,
   "metadata": {},
   "outputs": [
    {
     "name": "stdout",
     "output_type": "stream",
     "text": [
      "Model: \"sequential_1\"\n",
      "_________________________________________________________________\n",
      "Layer (type)                 Output Shape              Param #   \n",
      "=================================================================\n",
      "vgg16 (Model)                (None, 4, 4, 512)         14714688  \n",
      "_________________________________________________________________\n",
      "flatten_1 (Flatten)          (None, 8192)              0         \n",
      "_________________________________________________________________\n",
      "dense_1 (Dense)              (None, 256)               2097408   \n",
      "_________________________________________________________________\n",
      "dense_2 (Dense)              (None, 1)                 257       \n",
      "=================================================================\n",
      "Total params: 16,812,353\n",
      "Trainable params: 16,812,353\n",
      "Non-trainable params: 0\n",
      "_________________________________________________________________\n"
     ]
    }
   ],
   "source": [
    "model.summary()"
   ]
  },
  {
   "cell_type": "code",
   "execution_count": 4,
   "metadata": {},
   "outputs": [],
   "source": [
    "from keras.preprocessing.image import ImageDataGenerator\n",
    "from keras import optimizers\n",
    "import os\n",
    "\n",
    "train_datagen = ImageDataGenerator(\n",
    "    rescale = 1./255,\n",
    "    rotation_range = 40,\n",
    "    width_shift_range = 0.2,\n",
    "    height_shift_range = 0.2,\n",
    "    shear_range = 0.2,\n",
    "    zoom_range = 0.2,horizontal_flip = True,\n",
    "    fill_mode = \"nearest\")\n",
    "\n",
    "base_dir = \"C:/Users/usaid/Downloads/dogs-vs-cats-small\"\n",
    "train_dir = os.path.join(base_dir, 'train')\n",
    "validation_dir = os.path.join(base_dir, 'validation')\n",
    "test_dir = os.path.join(base_dir, 'test')"
   ]
  },
  {
   "cell_type": "code",
   "execution_count": 5,
   "metadata": {},
   "outputs": [],
   "source": [
    "test_datagen = ImageDataGenerator(rescale = 1./255)"
   ]
  },
  {
   "cell_type": "code",
   "execution_count": 6,
   "metadata": {},
   "outputs": [
    {
     "name": "stdout",
     "output_type": "stream",
     "text": [
      "Found 2000 images belonging to 2 classes.\n"
     ]
    }
   ],
   "source": [
    "train_generator = train_datagen.flow_from_directory(\n",
    "    train_dir,\n",
    "    target_size = (150, 150),\n",
    "    batch_size = 20,\n",
    "    class_mode = \"binary\")"
   ]
  },
  {
   "cell_type": "code",
   "execution_count": 7,
   "metadata": {},
   "outputs": [
    {
     "name": "stdout",
     "output_type": "stream",
     "text": [
      "Found 1000 images belonging to 2 classes.\n",
      "WARNING:tensorflow:From C:\\Users\\usaid\\anaconda3\\lib\\site-packages\\tensorflow\\python\\ops\\nn_impl.py:180: add_dispatch_support.<locals>.wrapper (from tensorflow.python.ops.array_ops) is deprecated and will be removed in a future version.\n",
      "Instructions for updating:\n",
      "Use tf.where in 2.0, which has the same broadcast rule as np.where\n"
     ]
    }
   ],
   "source": [
    "validation_generator = test_datagen.flow_from_directory(\n",
    "    validation_dir,\n",
    "    target_size = (150, 150),\n",
    "    batch_size = 20,\n",
    "    class_mode = \"binary\")\n",
    "\n",
    "model.compile(loss = \"binary_crossentropy\",\n",
    "             optimizer = optimizers.RMSprop(lr = 2e-5),\n",
    "              metrics = [\"acc\"])"
   ]
  },
  {
   "cell_type": "code",
   "execution_count": 8,
   "metadata": {},
   "outputs": [
    {
     "name": "stdout",
     "output_type": "stream",
     "text": [
      "WARNING:tensorflow:From C:\\Users\\usaid\\anaconda3\\lib\\site-packages\\keras\\backend\\tensorflow_backend.py:422: The name tf.global_variables is deprecated. Please use tf.compat.v1.global_variables instead.\n",
      "\n",
      "Epoch 1/30\n",
      "100/100 [==============================] - 41s 414ms/step - loss: 0.4925 - acc: 0.7340 - val_loss: 0.1875 - val_acc: 0.9070\n",
      "Epoch 2/30\n",
      "100/100 [==============================] - 35s 349ms/step - loss: 0.2728 - acc: 0.8835 - val_loss: 0.4340 - val_acc: 0.8900\n",
      "Epoch 3/30\n",
      "100/100 [==============================] - 35s 350ms/step - loss: 0.2195 - acc: 0.8975 - val_loss: 0.0998 - val_acc: 0.9310\n",
      "Epoch 4/30\n",
      "100/100 [==============================] - 35s 352ms/step - loss: 0.1883 - acc: 0.9225 - val_loss: 0.0092 - val_acc: 0.9520\n",
      "Epoch 5/30\n",
      "100/100 [==============================] - 35s 352ms/step - loss: 0.1636 - acc: 0.9330 - val_loss: 0.1108 - val_acc: 0.9000\n",
      "Epoch 6/30\n",
      "100/100 [==============================] - 35s 353ms/step - loss: 0.1368 - acc: 0.9455 - val_loss: 0.1075 - val_acc: 0.9560\n",
      "Epoch 7/30\n",
      "100/100 [==============================] - 35s 353ms/step - loss: 0.1174 - acc: 0.9535 - val_loss: 0.0084 - val_acc: 0.9720\n",
      "Epoch 8/30\n",
      "100/100 [==============================] - 35s 353ms/step - loss: 0.1062 - acc: 0.9545 - val_loss: 0.0050 - val_acc: 0.9740\n",
      "Epoch 9/30\n",
      "100/100 [==============================] - 35s 353ms/step - loss: 0.0876 - acc: 0.9695 - val_loss: 0.2004 - val_acc: 0.8970\n",
      "Epoch 10/30\n",
      "100/100 [==============================] - 35s 353ms/step - loss: 0.1010 - acc: 0.9625 - val_loss: 0.2487 - val_acc: 0.9660\n",
      "Epoch 11/30\n",
      "100/100 [==============================] - 35s 353ms/step - loss: 0.0911 - acc: 0.9610 - val_loss: 0.0150 - val_acc: 0.9710\n",
      "Epoch 12/30\n",
      "100/100 [==============================] - 35s 353ms/step - loss: 0.0789 - acc: 0.9705 - val_loss: 0.0095 - val_acc: 0.9720\n",
      "Epoch 13/30\n",
      "100/100 [==============================] - 35s 353ms/step - loss: 0.0703 - acc: 0.9720 - val_loss: 0.0231 - val_acc: 0.9660\n",
      "Epoch 14/30\n",
      "100/100 [==============================] - 35s 353ms/step - loss: 0.0615 - acc: 0.9785 - val_loss: 0.0301 - val_acc: 0.9680\n",
      "Epoch 15/30\n",
      "100/100 [==============================] - 35s 353ms/step - loss: 0.0663 - acc: 0.9785 - val_loss: 0.0059 - val_acc: 0.9720\n",
      "Epoch 16/30\n",
      "100/100 [==============================] - 35s 354ms/step - loss: 0.0443 - acc: 0.9825 - val_loss: 0.0651 - val_acc: 0.9700\n",
      "Epoch 17/30\n",
      "100/100 [==============================] - 35s 354ms/step - loss: 0.0750 - acc: 0.9820 - val_loss: 0.0993 - val_acc: 0.9580\n",
      "Epoch 18/30\n",
      "100/100 [==============================] - 35s 355ms/step - loss: 0.0560 - acc: 0.9805 - val_loss: 0.3180 - val_acc: 0.9710\n",
      "Epoch 19/30\n",
      "100/100 [==============================] - 35s 355ms/step - loss: 0.0469 - acc: 0.9890 - val_loss: 0.0019 - val_acc: 0.9760\n",
      "Epoch 20/30\n",
      "100/100 [==============================] - 35s 353ms/step - loss: 0.0470 - acc: 0.9840 - val_loss: 0.1193 - val_acc: 0.9700\n",
      "Epoch 21/30\n",
      "100/100 [==============================] - 35s 353ms/step - loss: 0.0556 - acc: 0.9845 - val_loss: 5.3167e-04 - val_acc: 0.9500\n",
      "Epoch 22/30\n",
      "100/100 [==============================] - 35s 353ms/step - loss: 0.0543 - acc: 0.9825 - val_loss: 0.0623 - val_acc: 0.9660\n",
      "Epoch 23/30\n",
      "100/100 [==============================] - 35s 353ms/step - loss: 0.0343 - acc: 0.9860 - val_loss: 0.0117 - val_acc: 0.9740\n",
      "Epoch 24/30\n",
      "100/100 [==============================] - 35s 353ms/step - loss: 0.0604 - acc: 0.9800 - val_loss: 0.0695 - val_acc: 0.9590\n",
      "Epoch 25/30\n",
      "100/100 [==============================] - 35s 354ms/step - loss: 0.0378 - acc: 0.9890 - val_loss: 0.8752 - val_acc: 0.8990\n",
      "Epoch 26/30\n",
      "100/100 [==============================] - 35s 354ms/step - loss: 0.0442 - acc: 0.9840 - val_loss: 0.2477 - val_acc: 0.9790\n",
      "Epoch 27/30\n",
      "100/100 [==============================] - 35s 354ms/step - loss: 0.0431 - acc: 0.9870 - val_loss: 0.0361 - val_acc: 0.9630\n",
      "Epoch 28/30\n",
      "100/100 [==============================] - 35s 354ms/step - loss: 0.0459 - acc: 0.9845 - val_loss: 0.1040 - val_acc: 0.9730\n",
      "Epoch 29/30\n",
      "100/100 [==============================] - 35s 354ms/step - loss: 0.0373 - acc: 0.9890 - val_loss: 0.0014 - val_acc: 0.9740\n",
      "Epoch 30/30\n",
      "100/100 [==============================] - 35s 354ms/step - loss: 0.0335 - acc: 0.9895 - val_loss: 0.0071 - val_acc: 0.9730\n"
     ]
    }
   ],
   "source": [
    "history = model.fit_generator(\n",
    "    train_generator,\n",
    "    steps_per_epoch = 100,\n",
    "    epochs = 30,\n",
    "    validation_data = validation_generator,\n",
    "    validation_steps = 50)"
   ]
  },
  {
   "cell_type": "code",
   "execution_count": 12,
   "metadata": {},
   "outputs": [
    {
     "data": {
      "image/png": "[encoded data removed]",
      "text/plain": [
       "<Figure size 432x288 with 1 Axes>"
      ]
     },
     "metadata": {
      "needs_background": "light"
     },
     "output_type": "display_data"
    },
    {
     "data": {
      "image/png": "[encoded data removed]",
      "text/plain": [
       "<Figure size 432x288 with 1 Axes>"
      ]
     },
     "metadata": {
      "needs_background": "light"
     },
     "output_type": "display_data"
    }
   ],
   "source": [
    "import matplotlib.pyplot as plt\n",
    "acc = history.history['acc']\n",
    "val_acc = history.history['val_acc']\n",
    "loss = history.history['loss']\n",
    "val_loss = history.history['val_loss']\n",
    "\n",
    "epochs = range(1, len(acc) + 1)\n",
    "plt.plot(epochs, acc, 'bo', label='Training acc')\n",
    "plt.plot(epochs, val_acc, 'b', label='Validation acc')\n",
    "plt.title('Training and validation accuracy')\n",
    "plt.legend()\n",
    "\n",
    "plt.figure()\n",
    "\n",
    "plt.plot(epochs, loss, 'bo', label='Training loss')\n",
    "plt.plot(epochs, val_loss, 'b', label='Validation loss')\n",
    "plt.title('Training and validation loss')\n",
    "plt.legend()\n",
    "\n",
    "plt.show()"
   ]
  },
  {
   "cell_type": "code",
   "execution_count": null,
   "metadata": {},
   "outputs": [],
   "source": []
  }
 ],
 "metadata": {
  "kernelspec": {
   "display_name": "Python 3",
   "language": "python",
   "name": "python3"
  },
  "language_info": {
   "codemirror_mode": {
    "name": "ipython",
    "version": 3
   },
   "file_extension": ".py",
   "mimetype": "text/x-python",
   "name": "python",
   "nbconvert_exporter": "python",
   "pygments_lexer": "ipython3",
   "version": "3.7.6"
  }
 },
 "nbformat": 4,
 "nbformat_minor": 4
}
